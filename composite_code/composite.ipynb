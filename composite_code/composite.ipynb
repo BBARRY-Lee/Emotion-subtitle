{
 "cells": [
  {
   "attachments": {},
   "cell_type": "markdown",
   "metadata": {},
   "source": [
    "### 1. Text → 자막 이미지"
   ]
  },
  {
   "cell_type": "code",
   "execution_count": 1,
   "metadata": {},
   "outputs": [],
   "source": [
    "import numpy as np\n",
    "import pandas as pd\n",
    "\n",
    "textdata = pd.read_csv(\"./input_text/testdata.csv\")"
   ]
  },
  {
   "cell_type": "code",
   "execution_count": 2,
   "metadata": {},
   "outputs": [
    {
     "data": {
      "text/html": [
       "<div>\n",
       "<style scoped>\n",
       "    .dataframe tbody tr th:only-of-type {\n",
       "        vertical-align: middle;\n",
       "    }\n",
       "\n",
       "    .dataframe tbody tr th {\n",
       "        vertical-align: top;\n",
       "    }\n",
       "\n",
       "    .dataframe thead th {\n",
       "        text-align: right;\n",
       "    }\n",
       "</style>\n",
       "<table border=\"1\" class=\"dataframe\">\n",
       "  <thead>\n",
       "    <tr style=\"text-align: right;\">\n",
       "      <th></th>\n",
       "      <th>Start Time</th>\n",
       "      <th>End Time</th>\n",
       "      <th>Text</th>\n",
       "      <th>Lable</th>\n",
       "    </tr>\n",
       "  </thead>\n",
       "  <tbody>\n",
       "    <tr>\n",
       "      <th>0</th>\n",
       "      <td>00:00:05:26</td>\n",
       "      <td>00:00:08:08</td>\n",
       "      <td>처음부터 혼자가 하려던 건 아니었다</td>\n",
       "      <td>neutral</td>\n",
       "    </tr>\n",
       "    <tr>\n",
       "      <th>1</th>\n",
       "      <td>00:00:24:24</td>\n",
       "      <td>00:00:27:22</td>\n",
       "      <td>연결이 되지 않아 사서함으로 연결되며</td>\n",
       "      <td>neutral</td>\n",
       "    </tr>\n",
       "    <tr>\n",
       "      <th>2</th>\n",
       "      <td>00:00:28:07</td>\n",
       "      <td>00:00:32:21</td>\n",
       "      <td>삐소리 이후 통행료가 부과됩니다</td>\n",
       "      <td>neutral</td>\n",
       "    </tr>\n",
       "    <tr>\n",
       "      <th>3</th>\n",
       "      <td>00:00:33:26</td>\n",
       "      <td>00:00:36:05</td>\n",
       "      <td>얼마나 기다린 거지?</td>\n",
       "      <td>embrassment</td>\n",
       "    </tr>\n",
       "    <tr>\n",
       "      <th>4</th>\n",
       "      <td>00:00:36:05</td>\n",
       "      <td>00:00:37:24</td>\n",
       "      <td>그냥 갈까?</td>\n",
       "      <td>embrassment</td>\n",
       "    </tr>\n",
       "    <tr>\n",
       "      <th>...</th>\n",
       "      <td>...</td>\n",
       "      <td>...</td>\n",
       "      <td>...</td>\n",
       "      <td>...</td>\n",
       "    </tr>\n",
       "    <tr>\n",
       "      <th>75</th>\n",
       "      <td>00:11:27:00</td>\n",
       "      <td>00:11:28:01</td>\n",
       "      <td>어쩌면 나는</td>\n",
       "      <td>neutral</td>\n",
       "    </tr>\n",
       "    <tr>\n",
       "      <th>76</th>\n",
       "      <td>00:11:28:01</td>\n",
       "      <td>00:11:31:25</td>\n",
       "      <td>길을 찾고 싶었던 게 아니라 그냥 길을 걷고 싶었던 것일지도 모른다</td>\n",
       "      <td>neutral</td>\n",
       "    </tr>\n",
       "    <tr>\n",
       "      <th>77</th>\n",
       "      <td>00:11:32:15</td>\n",
       "      <td>00:11:36:26</td>\n",
       "      <td>내일은 내일의 해가 뜨고</td>\n",
       "      <td>neutral</td>\n",
       "    </tr>\n",
       "    <tr>\n",
       "      <th>78</th>\n",
       "      <td>00:11:37:04</td>\n",
       "      <td>00:11:44:26</td>\n",
       "      <td>난 또 어딘가를 걷고 있겠지</td>\n",
       "      <td>neutral</td>\n",
       "    </tr>\n",
       "    <tr>\n",
       "      <th>79</th>\n",
       "      <td>00:11:51:28</td>\n",
       "      <td>00:11:55:08</td>\n",
       "      <td>내일의 해를 기다리며 그럼 이제 돌아갈까?</td>\n",
       "      <td>neutral</td>\n",
       "    </tr>\n",
       "  </tbody>\n",
       "</table>\n",
       "<p>80 rows × 4 columns</p>\n",
       "</div>"
      ],
      "text/plain": [
       "     Start Time     End Time                                   Text  \\\n",
       "0   00:00:05:26  00:00:08:08                    처음부터 혼자가 하려던 건 아니었다   \n",
       "1   00:00:24:24  00:00:27:22                   연결이 되지 않아 사서함으로 연결되며   \n",
       "2   00:00:28:07  00:00:32:21                      삐소리 이후 통행료가 부과됩니다   \n",
       "3   00:00:33:26  00:00:36:05                            얼마나 기다린 거지?   \n",
       "4   00:00:36:05  00:00:37:24                                 그냥 갈까?   \n",
       "..          ...          ...                                    ...   \n",
       "75  00:11:27:00  00:11:28:01                                 어쩌면 나는   \n",
       "76  00:11:28:01  00:11:31:25  길을 찾고 싶었던 게 아니라 그냥 길을 걷고 싶었던 것일지도 모른다   \n",
       "77  00:11:32:15  00:11:36:26                          내일은 내일의 해가 뜨고   \n",
       "78  00:11:37:04  00:11:44:26                        난 또 어딘가를 걷고 있겠지   \n",
       "79  00:11:51:28  00:11:55:08                내일의 해를 기다리며 그럼 이제 돌아갈까?   \n",
       "\n",
       "          Lable  \n",
       "0       neutral  \n",
       "1       neutral  \n",
       "2       neutral  \n",
       "3   embrassment  \n",
       "4   embrassment  \n",
       "..          ...  \n",
       "75      neutral  \n",
       "76      neutral  \n",
       "77      neutral  \n",
       "78      neutral  \n",
       "79      neutral  \n",
       "\n",
       "[80 rows x 4 columns]"
      ]
     },
     "execution_count": 2,
     "metadata": {},
     "output_type": "execute_result"
    }
   ],
   "source": [
    "textdata"
   ]
  },
  {
   "cell_type": "code",
   "execution_count": 4,
   "metadata": {},
   "outputs": [
    {
     "name": "stdout",
     "output_type": "stream",
     "text": [
      "['처음부터 혼자가 하려던 건 아니었다', '연결이 되지 않아 사서함으로 연결되며', '삐소리 이후 통행료가 부과됩니다', '얼마나 기다린 거지?', '그냥 갈까?', '결국 혼자다', '일을 시작한 지 얼마나 됐다고', '회사를 그만두고 쉬고 있다', '길을 찾기 위해 결정한 휴식인데', '길을 잃어버린 것 같다', '괜찮다', '천천히 해도 된다', '부모님의 배려가 조금씩 버겁게 느껴진다', '하늘은 참 맑구나', '솔직히 모르겠다', '내가 가는 길이 과연 맞는 걸까?', '앞으로 걸어갈 길을 고민하기 위해 캠핑을 갔다', '큰마음 먹고 캠핑용품을 샀고,', '무작정 차를 빌렸다', '혼자 오려던 건 아니다', '원래 함께 하기로 한 친구가 있었는데', '뭐 그렇게 됐다', '혼자 왔어도', '캠핑 기분은 내야겠지?', '캠핑은 어두워져 있을 때가 제맛이라', '주변을 산책하기 좋은 곳에 갔다', '산책하러 온 것치고는 어마어마하네', '그래도 너무 좋다', '어로와 향로 두 개의 길', '어로로 걸어야 한다면', '다 이렇게 걷는 길이 정해져 있으면', '참 좋을 텐데', '낯설지 않다, 이 풍경', '혹시 예전에', '나는 왕족이 아니었을까?', '예릉을 올려다 볼 수 있는 작은 전망대', '가만히 서서 보고 있자니 마음의 작은 평화가 찾아온다', '넓은 대지가', '양옆으로 펼쳐진 길', '들어가서 뛰놀고 싶다', '내가 가는 이 길이 어디로 가는지?', '어디로 날 데려가는지  그곳은 어디인지?', '이거 무슨 노래 가사였지?', '뭐 어쨌든 기라', '날 어디로 데려다줄 거니?', '추운 날에도', '잎이 무성한 나무가 가득한 길', '배움에는 끝이 없다는데', '배움의 길, 걷기편한 탄탄대로', '꼭 하나를 골라야 하는 갈림길', '그 중에 어디 길이 데려다주는 곳', '결국 여기구나.', '금강산도 식후경 이라는데 밥 먹으러 다시 캠핑장으로 가자', '자고로 캠핑은 낭만이랬다', '음악이 빠지면', '서운하지', '주변에 사람이 없으니까 적당히 볼륨을 높여볼까?', '할 수 있는 건 다 해 보기로 했다', '타닥타닥', '장작이 불타 올라오고', '2인분이나 준비했는데 다 먹을 수 있을까?', '원래 1인분이었나?', '잘못 산 것 같은데', '만약 전생이 있다면 나는 분명 한량이었다', '평생 먹고 놀았으면 좋겠어', '장작 타는 소리와 스피커에서 흘러나오는 음악소리', '마음이 고요하다', '얼마나 이러고 있었던 거지?', '잠깐 눈만 감았던 것 같은데  가져온 것들은 다 챙겨가자', '흔적을 남기지 않는 사람이 되자', '배는 부르고 자꾸 눈은 감기고', '근데 나 여기 왜 온 거지?', '이것저것 즐기다 보니 완전히 잊고있었다.', '내 길을 생각하러 왔었지', '근데 뭘 어떻게 생각해?', '어쩌면 나는', '길을 찾고 싶었던 게 아니라 그냥 길을 걷고 싶었던 것일지도 모른다', '내일은 내일의 해가 뜨고', '난 또 어딘가를 걷고 있겠지', '내일의 해를 기다리며 그럼 이제 돌아갈까?']\n"
     ]
    }
   ],
   "source": [
    "texts = []\n",
    "for i in textdata[\"Text\"] :\n",
    "    texts.append(i)\n",
    "print(texts)"
   ]
  },
  {
   "attachments": {},
   "cell_type": "markdown",
   "metadata": {},
   "source": [
    "### 1-2. Label 별 자막 스타일\n",
    "- 우선 'anxious', 'embrassment', 'happy', 'neutral'에 대해서만 자막 스타일 정의"
   ]
  },
  {
   "cell_type": "code",
   "execution_count": 5,
   "metadata": {},
   "outputs": [
    {
     "data": {
      "text/plain": [
       "{'anxious', 'embrassment', 'happy', 'neutral'}"
      ]
     },
     "execution_count": 5,
     "metadata": {},
     "output_type": "execute_result"
    }
   ],
   "source": [
    "set(textdata[\"Lable\"])\n",
    "# 우선 4개의 자막스타일 생성"
   ]
  },
  {
   "cell_type": "code",
   "execution_count": 6,
   "metadata": {},
   "outputs": [
    {
     "name": "stdout",
     "output_type": "stream",
     "text": [
      "[['00:00:05:26', '00:00:08:08', '처음부터 혼자가 하려던 건 아니었다', 'neutral'], ['00:00:24:24', '00:00:27:22', '연결이 되지 않아 사서함으로 연결되며', 'neutral'], ['00:00:28:07', '00:00:32:21', '삐소리 이후 통행료가 부과됩니다', 'neutral']]\n"
     ]
    }
   ],
   "source": [
    "textdataList = textdata.values.tolist()\n",
    "\n",
    "print(textdataList[0:3])"
   ]
  },
  {
   "cell_type": "code",
   "execution_count": 7,
   "metadata": {},
   "outputs": [
    {
     "name": "stdout",
     "output_type": "stream",
     "text": [
      "0 처음부터 혼자가 하려던 건 아니었다 neutral\n",
      "1 연결이 되지 않아 사서함으로 연결되며 neutral\n",
      "2 삐소리 이후 통행료가 부과됩니다 neutral\n",
      "3 얼마나 기다린 거지? embrassment\n",
      "4 그냥 갈까? embrassment\n",
      "5 결국 혼자다 neutral\n",
      "6 일을 시작한 지 얼마나 됐다고 neutral\n",
      "7 회사를 그만두고 쉬고 있다 neutral\n",
      "8 길을 찾기 위해 결정한 휴식인데 anxious\n",
      "9 길을 잃어버린 것 같다 anxious\n",
      "10 괜찮다 neutral\n",
      "11 천천히 해도 된다 neutral\n",
      "12 부모님의 배려가 조금씩 버겁게 느껴진다 anxious\n",
      "13 하늘은 참 맑구나 neutral\n",
      "14 솔직히 모르겠다 anxious\n",
      "15 내가 가는 길이 과연 맞는 걸까? anxious\n",
      "16 앞으로 걸어갈 길을 고민하기 위해 캠핑을 갔다 neutral\n",
      "17 큰마음 먹고 캠핑용품을 샀고, neutral\n",
      "18 무작정 차를 빌렸다 neutral\n",
      "19 혼자 오려던 건 아니다 neutral\n",
      "20 원래 함께 하기로 한 친구가 있었는데 neutral\n",
      "21 뭐 그렇게 됐다 neutral\n",
      "22 혼자 왔어도 neutral\n",
      "23 캠핑 기분은 내야겠지? neutral\n",
      "24 캠핑은 어두워져 있을 때가 제맛이라 neutral\n",
      "25 주변을 산책하기 좋은 곳에 갔다 neutral\n",
      "26 산책하러 온 것치고는 어마어마하네 embrassment\n",
      "27 그래도 너무 좋다 happy\n",
      "28 어로와 향로 두 개의 길 neutral\n",
      "29 어로로 걸어야 한다면 neutral\n",
      "30 다 이렇게 걷는 길이 정해져 있으면 neutral\n",
      "31 참 좋을 텐데 neutral\n",
      "32 낯설지 않다, 이 풍경 neutral\n",
      "33 혹시 예전에 neutral\n",
      "34 나는 왕족이 아니었을까? neutral\n",
      "35 예릉을 올려다 볼 수 있는 작은 전망대 neutral\n",
      "36 가만히 서서 보고 있자니 마음의 작은 평화가 찾아온다 happy\n",
      "37 넓은 대지가 neutral\n",
      "38 양옆으로 펼쳐진 길 neutral\n",
      "39 들어가서 뛰놀고 싶다 neutral\n",
      "40 내가 가는 이 길이 어디로 가는지? embrassment\n",
      "41 어디로 날 데려가는지  그곳은 어디인지? embrassment\n",
      "42 이거 무슨 노래 가사였지? neutral\n",
      "43 뭐 어쨌든 기라 neutral\n",
      "44 날 어디로 데려다줄 거니? neutral\n",
      "45 추운 날에도 neutral\n",
      "46 잎이 무성한 나무가 가득한 길 neutral\n",
      "47 배움에는 끝이 없다는데 neutral\n",
      "48 배움의 길, 걷기편한 탄탄대로 neutral\n",
      "49 꼭 하나를 골라야 하는 갈림길 neutral\n",
      "50 그 중에 어디 길이 데려다주는 곳 neutral\n",
      "51 결국 여기구나. neutral\n",
      "52 금강산도 식후경 이라는데 밥 먹으러 다시 캠핑장으로 가자 neutral\n",
      "53 자고로 캠핑은 낭만이랬다 neutral\n",
      "54 음악이 빠지면 neutral\n",
      "55 서운하지 neutral\n",
      "56 주변에 사람이 없으니까 적당히 볼륨을 높여볼까? neutral\n",
      "57 할 수 있는 건 다 해 보기로 했다 neutral\n",
      "58 타닥타닥 neutral\n",
      "59 장작이 불타 올라오고 neutral\n",
      "60 2인분이나 준비했는데 다 먹을 수 있을까? embrassment\n",
      "61 원래 1인분이었나? embrassment\n",
      "62 잘못 산 것 같은데 embrassment\n",
      "63 만약 전생이 있다면 나는 분명 한량이었다 neutral\n",
      "64 평생 먹고 놀았으면 좋겠어 neutral\n",
      "65 장작 타는 소리와 스피커에서 흘러나오는 음악소리 neutral\n",
      "66 마음이 고요하다 neutral\n",
      "67 얼마나 이러고 있었던 거지? embrassment\n",
      "68 잠깐 눈만 감았던 것 같은데  가져온 것들은 다 챙겨가자 neutral\n",
      "69 흔적을 남기지 않는 사람이 되자 neutral\n",
      "70 배는 부르고 자꾸 눈은 감기고 neutral\n",
      "71 근데 나 여기 왜 온 거지? embrassment\n",
      "72 이것저것 즐기다 보니 완전히 잊고있었다. neutral\n",
      "73 내 길을 생각하러 왔었지 neutral\n",
      "74 근데 뭘 어떻게 생각해? embrassment\n",
      "75 어쩌면 나는 neutral\n",
      "76 길을 찾고 싶었던 게 아니라 그냥 길을 걷고 싶었던 것일지도 모른다 neutral\n",
      "77 내일은 내일의 해가 뜨고 neutral\n",
      "78 난 또 어딘가를 걷고 있겠지 neutral\n",
      "79 내일의 해를 기다리며 그럼 이제 돌아갈까? neutral\n"
     ]
    }
   ],
   "source": [
    "for n, i in enumerate (textdataList) :\n",
    "    print(n, i[2], i[3])\n",
    "\n",
    "    "
   ]
  },
  {
   "cell_type": "code",
   "execution_count": 8,
   "metadata": {},
   "outputs": [],
   "source": [
    "import cv2\n",
    "import numpy as np\n",
    "from PIL import ImageFont, ImageDraw, Image"
   ]
  },
  {
   "cell_type": "code",
   "execution_count": 9,
   "metadata": {},
   "outputs": [],
   "source": [
    "# 정의한 스타일 별 감정자막 출력\n",
    "dataList = textdataList\n",
    "\n",
    "for i, data in enumerate(dataList) :\n",
    "    text = data[2]\n",
    "    Label = data[3]\n",
    "    \n",
    "    def create_subtitle_image(text, font_path, font_size, color, bg_color, width, height):\n",
    "        img = np.full(shape=(height,width,3),fill_value=bg_color,dtype=np.uint8)\n",
    "        img = Image.fromarray(img) \n",
    "        draw = ImageDraw.Draw(img)\n",
    "        font = ImageFont.truetype(font_path, font_size)\n",
    "        org = (50, 100)\n",
    "        draw.text(org, text, font=font, fill=color) \n",
    "        return np.array(img) \n",
    "\n",
    "\n",
    "    # 최종 이미지 생성\n",
    "    def generate_images(text, font_path, font_size, color, bg_color, width, height):\n",
    "        img = create_subtitle_image(text, font_path, font_size, color, bg_color, width, height)\n",
    "        cv2.imwrite(f\"./output_img/{i}.png\", img, [cv2.IMWRITE_PNG_COMPRESSION, 0])\n",
    "\n",
    "    if Label == \"neutral\":\n",
    "        # 흰색, neutral, 중립\n",
    "        generate_images(text, \"./NotoSansKR-Black.otf\", 20, (0,0,0), 255, 512, 512)\n",
    "                \n",
    "    elif Label == \"embrassment\":\n",
    "        # 핑크색, embrassment, 당혹\n",
    "        generate_images(text, \"./NotoSansKR-Black.otf\", 20, (138,43,226), 255, 512, 512)\n",
    "                \n",
    "    elif Label == \"anxious\":\n",
    "        # 빨강색, anxious, 불안\n",
    "        generate_images(text, \"./NotoSansKR-Black.otf\", 20, (0, 0, 225), 255, 512, 512)\n",
    "            \n",
    "    elif Label == \"happy\":\n",
    "        # 하늘색, happy, 행복\n",
    "        generate_images(text, \"./NotoSansKR-Black.otf\", 20, (255, 255, 0), 255, 512, 512)\n",
    "\n"
   ]
  },
  {
   "attachments": {},
   "cell_type": "markdown",
   "metadata": {},
   "source": [
    "### 2. 영상 + 자막 이미지"
   ]
  },
  {
   "cell_type": "code",
   "execution_count": 10,
   "metadata": {},
   "outputs": [],
   "source": [
    "import cv2\n",
    "import numpy as np "
   ]
  },
  {
   "cell_type": "code",
   "execution_count": 11,
   "metadata": {},
   "outputs": [],
   "source": [
    "# 영상 파일과 자막 이미지 파일 이름\n",
    "video_file = \"/Users/jiyunlee/Desktop/test.mp4\""
   ]
  },
  {
   "cell_type": "code",
   "execution_count": 12,
   "metadata": {},
   "outputs": [
    {
     "name": "stdout",
     "output_type": "stream",
     "text": [
      "['./output_img/0.png', './output_img/1.png', './output_img/10.png', './output_img/11.png', './output_img/12.png', './output_img/13.png', './output_img/14.png', './output_img/15.png', './output_img/16.png', './output_img/17.png', './output_img/18.png', './output_img/19.png', './output_img/2.png', './output_img/20.png', './output_img/21.png', './output_img/22.png', './output_img/23.png', './output_img/24.png', './output_img/25.png', './output_img/26.png', './output_img/27.png', './output_img/28.png', './output_img/29.png', './output_img/3.png', './output_img/30.png', './output_img/31.png', './output_img/32.png', './output_img/33.png', './output_img/34.png', './output_img/35.png', './output_img/36.png', './output_img/37.png', './output_img/38.png', './output_img/39.png', './output_img/4.png', './output_img/40.png', './output_img/41.png', './output_img/42.png', './output_img/43.png', './output_img/44.png', './output_img/45.png', './output_img/46.png', './output_img/47.png', './output_img/48.png', './output_img/49.png', './output_img/5.png', './output_img/50.png', './output_img/51.png', './output_img/52.png', './output_img/53.png', './output_img/54.png', './output_img/55.png', './output_img/56.png', './output_img/57.png', './output_img/58.png', './output_img/59.png', './output_img/6.png', './output_img/60.png', './output_img/61.png', './output_img/62.png', './output_img/63.png', './output_img/64.png', './output_img/65.png', './output_img/66.png', './output_img/67.png', './output_img/68.png', './output_img/69.png', './output_img/7.png', './output_img/70.png', './output_img/71.png', './output_img/72.png', './output_img/73.png', './output_img/74.png', './output_img/75.png', './output_img/76.png', './output_img/77.png', './output_img/78.png', './output_img/79.png', './output_img/8.png', './output_img/9.png']\n"
     ]
    }
   ],
   "source": [
    "import os\n",
    "from glob import glob\n",
    "\n",
    "folder_path = './output_img'\n",
    "image_extensions = 'png'\n",
    "\n",
    "def is_image(filename):\n",
    "    return any(filename.endswith(ext) for ext in image_extensions)\n",
    "\n",
    "subtitle_images_list = []\n",
    "subtitle_images_list = sorted([f for f in glob(os.path.join(folder_path, '*')) if is_image(f)])\n",
    "print(subtitle_images_list)\n"
   ]
  },
  {
   "cell_type": "code",
   "execution_count": 144,
   "metadata": {},
   "outputs": [
    {
     "data": {
      "image/png": "[encoded data removed]",
      "text/plain": [
       "<Figure size 2000x500 with 4 Axes>"
      ]
     },
     "metadata": {},
     "output_type": "display_data"
    }
   ],
   "source": [
    "import matplotlib.pyplot as plt\n",
    "import cv2\n",
    "\n",
    "# 순서대로 neutral, embrassment, anxious, happy\n",
    "subtitle_images_list = ['./output_img/0.png', './output_img/4.png', './output_img/8.png', './output_img/27.png']\n",
    "\n",
    "fig, axs = plt.subplots(1, 4, figsize=(20, 5))\n",
    "for ax, img_path in zip(axs.flat, subtitle_images_list):\n",
    "    img = cv2.imread(img_path)\n",
    "    ax.imshow(img)\n",
    "\n",
    "plt.show()\n"
   ]
  },
  {
   "attachments": {},
   "cell_type": "markdown",
   "metadata": {},
   "source": [
    "### 3. Time stamp에 따라 여러 자막 이미지를 영상과 합성"
   ]
  },
  {
   "cell_type": "code",
   "execution_count": null,
   "metadata": {},
   "outputs": [],
   "source": [
    "import cv2\n",
    "import numpy as np "
   ]
  },
  {
   "cell_type": "code",
   "execution_count": 2,
   "metadata": {},
   "outputs": [],
   "source": [
    "import cv2\n",
    "import numpy as np\n",
    "\n",
    "img1 = cv2.imread(\"./subtitle.png\")\n",
    "img2 = cv2.imread(\"./st2.png\")\n",
    "\n",
    "# 사진 사이즈 맞추기\n",
    "rows, cols, _ = np.shape(img1)\n",
    "img2 = cv2.resize(img2, (cols, rows))\n"
   ]
  },
  {
   "cell_type": "code",
   "execution_count": null,
   "metadata": {},
   "outputs": [],
   "source": [
    "# 영상 파일과 자막 이미지 파일 리스트\n",
    "video_file = \"./test3.mp4\"\n",
    "subtitle_image_files = [img1, img2]"
   ]
  },
  {
   "cell_type": "code",
   "execution_count": null,
   "metadata": {},
   "outputs": [],
   "source": [
    "# 영상 파일 열기\n",
    "video_capture = cv2.VideoCapture(video_file)\n",
    "\n",
    "# 영상 크기 얻기\n",
    "video_width = int(video_capture.get(3))\n",
    "video_height = int(video_capture.get(4))"
   ]
  },
  {
   "cell_type": "code",
   "execution_count": null,
   "metadata": {},
   "outputs": [],
   "source": [
    "# 자막 이미지 리스트\n",
    "subtitle_images = []\n",
    "for subtitle_image_file in subtitle_image_files:\n",
    "    subtitle_image = cv2.imread(subtitle_image_file)\n",
    "    subtitle_images.append(subtitle_image)\n",
    "\n",
    "subtitle_images = []\n",
    "subtitle_heights = []\n",
    "subtitle_widths = []\n",
    "for subtitle_image_file in subtitle_image_files:\n",
    "    subtitle_image = cv2.imread(subtitle_image_file)\n",
    "    subtitle_images.append(subtitle_image)\n",
    "    subtitle_height, subtitle_width, _ = subtitle_image.shape\n",
    "    subtitle_heights.append(subtitle_height)\n",
    "    subtitle_widths.append(subtitle_width)"
   ]
  },
  {
   "cell_type": "code",
   "execution_count": null,
   "metadata": {},
   "outputs": [],
   "source": [
    "### 타임스탬프 초 단위 환산\n",
    "start_times = ['01:02:25:11']\n",
    "end_times = ['01:02:35:22']\n",
    "\n",
    "def convert_to_seconds(time):\n",
    "    h, m, s, ms = map(int, time.split(':'))\n",
    "    return 3600 * h + 60 * m + s + ms / 100.0\n",
    "\n",
    "start_times = [convert_to_seconds(time) for time in start_times]\n",
    "end_times = [convert_to_seconds(time) for time in end_times]\n",
    "\n",
    "print(start_times)\n",
    "print(end_times)"
   ]
  },
  {
   "cell_type": "code",
   "execution_count": null,
   "metadata": {},
   "outputs": [],
   "source": [
    "### 타임스탬프에 따라 자막 이미지 합성\n",
    "output_file = \"./result4.mp4\"\n",
    "\n",
    "fourcc = cv2.VideoWriter_fourcc(*'mp4v')\n",
    "out = cv2.VideoWriter(output_file, fourcc, 20.0, (video_width, video_height))\n",
    "\n",
    "start_times = [5.26, 24.24]\n",
    "end_times = [8.08, 27.22]\n",
    "\n",
    "frame_counter = 0\n",
    "i = 0\n",
    "while True:\n",
    "    ret, frame = video_capture.read()\n",
    "    if not ret:\n",
    "        break\n",
    "    \n",
    "    if i < len(start_times) and frame_counter / 20.0 >= start_times[i]:\n",
    "        subtitle_image = subtitle_images[i]\n",
    "        subtitle_height, subtitle_width, _ = subtitle_image.shape\n",
    "        x_offset = (video_width - subtitle_width) // 2\n",
    "        y_offset = video_height - subtitle_height\n",
    "        roi = frame[y_offset:y_offset+subtitle_height, x_offset:x_offset+subtitle_width]\n",
    "        img2gray = cv2.cvtColor(subtitle_image, cv2.COLOR_BGR2RGB)\n",
    "        img2gray = cv2.cvtColor(img2gray, cv2.COLOR_RGB2GRAY)\n",
    "        ret, mask = cv2.threshold(img2gray, 10, 255, cv2.THRESH_BINARY)\n",
    "        mask_inv = cv2.bitwise_not(mask)\n",
    "        img1_bg = cv2.bitwise_and(roi, roi, mask=mask_inv)\n",
    "        img2_fg = cv2.bitwise_and(subtitle_image, subtitle_image, mask=mask)\n",
    "        dst = cv2.add(img1_bg, img2_fg)\n",
    "        frame[y_offset:y_offset+subtitle_height, x_offset:x_offset+subtitle_width] = dst\n",
    "    \n",
    "    out.write(frame)\n",
    "    frame_counter += 1\n",
    "    \n",
    "    if i < len(end_times) and frame_counter / 20.0 >= end_times[i]:\n",
    "        i += 1\n",
    "\n",
    "out.release()\n"
   ]
  }
 ],
 "metadata": {
  "kernelspec": {
   "display_name": "Python 3",
   "language": "python",
   "name": "python3"
  },
  "language_info": {
   "codemirror_mode": {
    "name": "ipython",
    "version": 3
   },
   "file_extension": ".py",
   "mimetype": "text/x-python",
   "name": "python",
   "nbconvert_exporter": "python",
   "pygments_lexer": "ipython3",
   "version": "3.10.9"
  },
  "orig_nbformat": 4,
  "vscode": {
   "interpreter": {
    "hash": "aee8b7b246df8f9039afb4144a1f6fd8d2ca17a180786b69acc140d282b71a49"
   }
  }
 },
 "nbformat": 4,
 "nbformat_minor": 2
}
