{
 "cells": [
  {
   "attachments": {},
   "cell_type": "markdown",
   "metadata": {},
   "source": [
    "### 1. Text → 자막 이미지"
   ]
  },
  {
   "cell_type": "code",
   "execution_count": 1,
   "metadata": {},
   "outputs": [],
   "source": [
    "import numpy as np\n",
    "import pandas as pd\n",
    "\n",
    "textdata = pd.read_csv(\"./input_text/testdata.csv\")"
   ]
  },
  {
   "cell_type": "code",
   "execution_count": 2,
   "metadata": {},
   "outputs": [
    {
     "data": {
      "text/html": [
       "<div>\n",
       "<style scoped>\n",
       "    .dataframe tbody tr th:only-of-type {\n",
       "        vertical-align: middle;\n",
       "    }\n",
       "\n",
       "    .dataframe tbody tr th {\n",
       "        vertical-align: top;\n",
       "    }\n",
       "\n",
       "    .dataframe thead th {\n",
       "        text-align: right;\n",
       "    }\n",
       "</style>\n",
       "<table border=\"1\" class=\"dataframe\">\n",
       "  <thead>\n",
       "    <tr style=\"text-align: right;\">\n",
       "      <th></th>\n",
       "      <th>Start Time</th>\n",
       "      <th>End Time</th>\n",
       "      <th>Text</th>\n",
       "      <th>Lable</th>\n",
       "    </tr>\n",
       "  </thead>\n",
       "  <tbody>\n",
       "    <tr>\n",
       "      <th>0</th>\n",
       "      <td>00:00:05:26</td>\n",
       "      <td>00:00:08:08</td>\n",
       "      <td>처음부터 혼자가 하려던 건 아니었다</td>\n",
       "      <td>neutral</td>\n",
       "    </tr>\n",
       "    <tr>\n",
       "      <th>1</th>\n",
       "      <td>00:00:24:24</td>\n",
       "      <td>00:00:27:22</td>\n",
       "      <td>연결이 되지 않아 사서함으로 연결되며</td>\n",
       "      <td>neutral</td>\n",
       "    </tr>\n",
       "    <tr>\n",
       "      <th>2</th>\n",
       "      <td>00:00:28:07</td>\n",
       "      <td>00:00:32:21</td>\n",
       "      <td>삐소리 이후 통행료가 부과됩니다</td>\n",
       "      <td>neutral</td>\n",
       "    </tr>\n",
       "    <tr>\n",
       "      <th>3</th>\n",
       "      <td>00:00:33:26</td>\n",
       "      <td>00:00:36:05</td>\n",
       "      <td>얼마나 기다린 거지?</td>\n",
       "      <td>embrassment</td>\n",
       "    </tr>\n",
       "    <tr>\n",
       "      <th>4</th>\n",
       "      <td>00:00:36:05</td>\n",
       "      <td>00:00:37:24</td>\n",
       "      <td>그냥 갈까?</td>\n",
       "      <td>embrassment</td>\n",
       "    </tr>\n",
       "    <tr>\n",
       "      <th>...</th>\n",
       "      <td>...</td>\n",
       "      <td>...</td>\n",
       "      <td>...</td>\n",
       "      <td>...</td>\n",
       "    </tr>\n",
       "    <tr>\n",
       "      <th>75</th>\n",
       "      <td>00:11:27:00</td>\n",
       "      <td>00:11:28:01</td>\n",
       "      <td>어쩌면 나는</td>\n",
       "      <td>neutral</td>\n",
       "    </tr>\n",
       "    <tr>\n",
       "      <th>76</th>\n",
       "      <td>00:11:28:01</td>\n",
       "      <td>00:11:31:25</td>\n",
       "      <td>길을 찾고 싶었던 게 아니라 그냥 길을 걷고 싶었던 것일지도 모른다</td>\n",
       "      <td>neutral</td>\n",
       "    </tr>\n",
       "    <tr>\n",
       "      <th>77</th>\n",
       "      <td>00:11:32:15</td>\n",
       "      <td>00:11:36:26</td>\n",
       "      <td>내일은 내일의 해가 뜨고</td>\n",
       "      <td>neutral</td>\n",
       "    </tr>\n",
       "    <tr>\n",
       "      <th>78</th>\n",
       "      <td>00:11:37:04</td>\n",
       "      <td>00:11:44:26</td>\n",
       "      <td>난 또 어딘가를 걷고 있겠지</td>\n",
       "      <td>neutral</td>\n",
       "    </tr>\n",
       "    <tr>\n",
       "      <th>79</th>\n",
       "      <td>00:11:51:28</td>\n",
       "      <td>00:11:55:08</td>\n",
       "      <td>내일의 해를 기다리며 그럼 이제 돌아갈까?</td>\n",
       "      <td>neutral</td>\n",
       "    </tr>\n",
       "  </tbody>\n",
       "</table>\n",
       "<p>80 rows × 4 columns</p>\n",
       "</div>"
      ],
      "text/plain": [
       "     Start Time     End Time                                   Text  \\\n",
       "0   00:00:05:26  00:00:08:08                    처음부터 혼자가 하려던 건 아니었다   \n",
       "1   00:00:24:24  00:00:27:22                   연결이 되지 않아 사서함으로 연결되며   \n",
       "2   00:00:28:07  00:00:32:21                      삐소리 이후 통행료가 부과됩니다   \n",
       "3   00:00:33:26  00:00:36:05                            얼마나 기다린 거지?   \n",
       "4   00:00:36:05  00:00:37:24                                 그냥 갈까?   \n",
       "..          ...          ...                                    ...   \n",
       "75  00:11:27:00  00:11:28:01                                 어쩌면 나는   \n",
       "76  00:11:28:01  00:11:31:25  길을 찾고 싶었던 게 아니라 그냥 길을 걷고 싶었던 것일지도 모른다   \n",
       "77  00:11:32:15  00:11:36:26                          내일은 내일의 해가 뜨고   \n",
       "78  00:11:37:04  00:11:44:26                        난 또 어딘가를 걷고 있겠지   \n",
       "79  00:11:51:28  00:11:55:08                내일의 해를 기다리며 그럼 이제 돌아갈까?   \n",
       "\n",
       "          Lable  \n",
       "0       neutral  \n",
       "1       neutral  \n",
       "2       neutral  \n",
       "3   embrassment  \n",
       "4   embrassment  \n",
       "..          ...  \n",
       "75      neutral  \n",
       "76      neutral  \n",
       "77      neutral  \n",
       "78      neutral  \n",
       "79      neutral  \n",
       "\n",
       "[80 rows x 4 columns]"
      ]
     },
     "execution_count": 2,
     "metadata": {},
     "output_type": "execute_result"
    }
   ],
   "source": [
    "textdata"
   ]
  },
  {
   "cell_type": "code",
<<<<<<< HEAD
   "execution_count": 4,
=======
   "execution_count": 3,
>>>>>>> 9cb9c096f25d667171dbb195cb56b90375b0ce25
   "metadata": {},
   "outputs": [
    {
     "name": "stdout",
     "output_type": "stream",
     "text": [
      "['처음부터 혼자가 하려던 건 아니었다', '연결이 되지 않아 사서함으로 연결되며', '삐소리 이후 통행료가 부과됩니다', '얼마나 기다린 거지?', '그냥 갈까?', '결국 혼자다', '일을 시작한 지 얼마나 됐다고', '회사를 그만두고 쉬고 있다', '길을 찾기 위해 결정한 휴식인데', '길을 잃어버린 것 같다', '괜찮다', '천천히 해도 된다', '부모님의 배려가 조금씩 버겁게 느껴진다', '하늘은 참 맑구나', '솔직히 모르겠다', '내가 가는 길이 과연 맞는 걸까?', '앞으로 걸어갈 길을 고민하기 위해 캠핑을 갔다', '큰마음 먹고 캠핑용품을 샀고,', '무작정 차를 빌렸다', '혼자 오려던 건 아니다', '원래 함께 하기로 한 친구가 있었는데', '뭐 그렇게 됐다', '혼자 왔어도', '캠핑 기분은 내야겠지?', '캠핑은 어두워져 있을 때가 제맛이라', '주변을 산책하기 좋은 곳에 갔다', '산책하러 온 것치고는 어마어마하네', '그래도 너무 좋다', '어로와 향로 두 개의 길', '어로로 걸어야 한다면', '다 이렇게 걷는 길이 정해져 있으면', '참 좋을 텐데', '낯설지 않다, 이 풍경', '혹시 예전에', '나는 왕족이 아니었을까?', '예릉을 올려다 볼 수 있는 작은 전망대', '가만히 서서 보고 있자니 마음의 작은 평화가 찾아온다', '넓은 대지가', '양옆으로 펼쳐진 길', '들어가서 뛰놀고 싶다', '내가 가는 이 길이 어디로 가는지?', '어디로 날 데려가는지  그곳은 어디인지?', '이거 무슨 노래 가사였지?', '뭐 어쨌든 기라', '날 어디로 데려다줄 거니?', '추운 날에도', '잎이 무성한 나무가 가득한 길', '배움에는 끝이 없다는데', '배움의 길, 걷기편한 탄탄대로', '꼭 하나를 골라야 하는 갈림길', '그 중에 어디 길이 데려다주는 곳', '결국 여기구나.', '금강산도 식후경 이라는데 밥 먹으러 다시 캠핑장으로 가자', '자고로 캠핑은 낭만이랬다', '음악이 빠지면', '서운하지', '주변에 사람이 없으니까 적당히 볼륨을 높여볼까?', '할 수 있는 건 다 해 보기로 했다', '타닥타닥', '장작이 불타 올라오고', '2인분이나 준비했는데 다 먹을 수 있을까?', '원래 1인분이었나?', '잘못 산 것 같은데', '만약 전생이 있다면 나는 분명 한량이었다', '평생 먹고 놀았으면 좋겠어', '장작 타는 소리와 스피커에서 흘러나오는 음악소리', '마음이 고요하다', '얼마나 이러고 있었던 거지?', '잠깐 눈만 감았던 것 같은데  가져온 것들은 다 챙겨가자', '흔적을 남기지 않는 사람이 되자', '배는 부르고 자꾸 눈은 감기고', '근데 나 여기 왜 온 거지?', '이것저것 즐기다 보니 완전히 잊고있었다.', '내 길을 생각하러 왔었지', '근데 뭘 어떻게 생각해?', '어쩌면 나는', '길을 찾고 싶었던 게 아니라 그냥 길을 걷고 싶었던 것일지도 모른다', '내일은 내일의 해가 뜨고', '난 또 어딘가를 걷고 있겠지', '내일의 해를 기다리며 그럼 이제 돌아갈까?']\n"
     ]
    }
   ],
   "source": [
    "texts = []\n",
    "for i in textdata[\"Text\"] :\n",
    "    texts.append(i)\n",
    "print(texts)"
   ]
  },
  {
   "attachments": {},
   "cell_type": "markdown",
   "metadata": {},
   "source": [
    "### 1-2. Label 별 자막 스타일\n",
    "- 우선 'anxious', 'embrassment', 'happy', 'neutral'에 대해서만 자막 스타일 정의"
   ]
  },
  {
   "cell_type": "code",
<<<<<<< HEAD
   "execution_count": 5,
=======
   "execution_count": 4,
>>>>>>> 9cb9c096f25d667171dbb195cb56b90375b0ce25
   "metadata": {},
   "outputs": [
    {
     "data": {
      "text/plain": [
       "{'anxious', 'embrassment', 'happy', 'neutral'}"
      ]
     },
<<<<<<< HEAD
     "execution_count": 5,
=======
     "execution_count": 4,
>>>>>>> 9cb9c096f25d667171dbb195cb56b90375b0ce25
     "metadata": {},
     "output_type": "execute_result"
    }
   ],
   "source": [
    "set(textdata[\"Lable\"])\n",
    "# 우선 4개의 자막스타일 생성"
   ]
  },
  {
   "cell_type": "code",
<<<<<<< HEAD
   "execution_count": 6,
=======
   "execution_count": 5,
>>>>>>> 9cb9c096f25d667171dbb195cb56b90375b0ce25
   "metadata": {},
   "outputs": [
    {
     "name": "stdout",
     "output_type": "stream",
     "text": [
      "[['00:00:05:26', '00:00:08:08', '처음부터 혼자가 하려던 건 아니었다', 'neutral'], ['00:00:24:24', '00:00:27:22', '연결이 되지 않아 사서함으로 연결되며', 'neutral'], ['00:00:28:07', '00:00:32:21', '삐소리 이후 통행료가 부과됩니다', 'neutral']]\n"
     ]
    }
   ],
   "source": [
    "textdataList = textdata.values.tolist()\n",
    "\n",
    "print(textdataList[0:3])"
   ]
  },
  {
   "cell_type": "code",
<<<<<<< HEAD
=======
   "execution_count": 6,
   "metadata": {},
   "outputs": [
    {
     "name": "stdout",
     "output_type": "stream",
     "text": [
      "['00:00:05:26', '00:00:24:24', '00:00:28:07', '00:00:33:26', '00:00:36:05', '00:00:51:13', '00:01:41:29', '00:01:46:28', '00:01:49:19', '00:01:52:06', '00:01:57:19', '00:02:03:01', '00:02:05:12', '00:02:11:14', '00:02:13:22', '00:02:16:21', '00:02:21:07', '00:02:25:11', '00:02:28:08', '00:02:45:06', '00:02:47:02', '00:02:56:05', '00:02:59:23', '00:03:00:18', '00:03:12:29', '00:03:15:04', '00:03:17:23', '00:03:31:07', '00:03:51:12', '00:03:55:26', '00:03:57:06', '00:04:05:02', '00:04:22:23', '00:04:33:09', '00:04:34:23', '00:05:03:16', '00:05:09:02', '00:05:20:02', '00:05:21:00', '00:05:32:07', '00:05:41:03', '00:05:44:10', '00:05:54:10', '00:05:58:15', '00:06:00:12', '00:06:05:08', '00:06:06:03', '00:06:11:25', '00:06:23:08', '00:06:50:24', '00:06:53:11', '00:07:01:05', '00:07:04:22', '00:07:12:12', '00:07:16:15', '00:07:17:09', '00:07:26:05', '00:08:23:29', '00:08:26:22', '00:08:31:02', '00:08:45:29', '00:09:18:05', '00:09:22:24', '00:09:31:14', '00:09:35:05', '00:09:38:02', '00:09:46:08', '00:10:24:08', '00:10:26:14', '00:10:35:04', '00:11:04:05', '00:11:07:18', '00:11:12:27', '00:11:15:11', '00:11:22:09', '00:11:27:00', '00:11:28:01', '00:11:32:15', '00:11:37:04', '00:11:51:28']\n",
      "['00:00:08:08', '00:00:27:22', '00:00:32:21', '00:00:36:05', '00:00:37:24', '00:00:54:17', '00:01:46:18', '00:01:49:19', '00:01:51:21', '00:01:55:26', '00:02:03:01', '00:02:05:12', '00:02:10:06', '00:02:13:22', '00:02:16:15', '00:02:20:21', '00:02:24:06', '00:02:28:08', '00:02:40:21', '00:02:47:02', '00:02:49:05', '00:02:58:25', '00:03:00:18', '00:03:12:29', '00:03:15:00', '00:03:17:23', '00:03:28:15', '00:03:51:12', '00:03:54:20', '00:03:57:06', '00:04:05:02', '00:04:07:04', '00:04:24:23', '00:04:34:23', '00:05:03:16', '00:05:07:19', '00:05:12:24', '00:05:21:00', '00:05:31:26', '00:05:35:15', '00:05:43:16', '00:05:49:18', '00:05:56:27', '00:06:00:12', '00:06:03:00', '00:06:06:03', '00:06:11:25', '00:06:21:12', '00:06:32:29', '00:06:53:11', '00:07:00:18', '00:07:04:22', '00:07:08:18', '00:07:16:07', '00:07:17:09', '00:07:26:05', '00:07:31:23', '00:08:26:22', '00:08:30:20', '00:08:34:10', '00:08:49:00', '00:09:22:06', '00:09:31:14', '00:09:34:12', '00:09:38:02', '00:09:43:27', '00:09:50:01', '00:10:26:14', '00:10:34:16', '00:11:04:05', '00:11:06:23', '00:11:09:16', '00:11:15:11', '00:11:20:04', '00:11:24:28', '00:11:28:01', '00:11:31:25', '00:11:36:26', '00:11:44:26', '00:11:55:08']\n"
     ]
    }
   ],
   "source": [
    "startTime, endTime = [], []\n",
    "for times in textdataList :\n",
    "    startTime.append(times[0])\n",
    "    endTime.append(times[1])\n",
    "\n",
    "print(startTime)\n",
    "print(endTime)"
   ]
  },
  {
   "cell_type": "code",
>>>>>>> 9cb9c096f25d667171dbb195cb56b90375b0ce25
   "execution_count": 7,
   "metadata": {},
   "outputs": [
    {
     "name": "stdout",
     "output_type": "stream",
     "text": [
      "0 처음부터 혼자가 하려던 건 아니었다 neutral\n",
      "1 연결이 되지 않아 사서함으로 연결되며 neutral\n",
      "2 삐소리 이후 통행료가 부과됩니다 neutral\n",
      "3 얼마나 기다린 거지? embrassment\n",
      "4 그냥 갈까? embrassment\n",
      "5 결국 혼자다 neutral\n",
      "6 일을 시작한 지 얼마나 됐다고 neutral\n",
      "7 회사를 그만두고 쉬고 있다 neutral\n",
      "8 길을 찾기 위해 결정한 휴식인데 anxious\n",
      "9 길을 잃어버린 것 같다 anxious\n",
      "10 괜찮다 neutral\n",
      "11 천천히 해도 된다 neutral\n",
      "12 부모님의 배려가 조금씩 버겁게 느껴진다 anxious\n",
      "13 하늘은 참 맑구나 neutral\n",
      "14 솔직히 모르겠다 anxious\n",
      "15 내가 가는 길이 과연 맞는 걸까? anxious\n",
      "16 앞으로 걸어갈 길을 고민하기 위해 캠핑을 갔다 neutral\n",
      "17 큰마음 먹고 캠핑용품을 샀고, neutral\n",
      "18 무작정 차를 빌렸다 neutral\n",
      "19 혼자 오려던 건 아니다 neutral\n",
      "20 원래 함께 하기로 한 친구가 있었는데 neutral\n",
      "21 뭐 그렇게 됐다 neutral\n",
      "22 혼자 왔어도 neutral\n",
      "23 캠핑 기분은 내야겠지? neutral\n",
      "24 캠핑은 어두워져 있을 때가 제맛이라 neutral\n",
      "25 주변을 산책하기 좋은 곳에 갔다 neutral\n",
      "26 산책하러 온 것치고는 어마어마하네 embrassment\n",
      "27 그래도 너무 좋다 happy\n",
      "28 어로와 향로 두 개의 길 neutral\n",
      "29 어로로 걸어야 한다면 neutral\n",
      "30 다 이렇게 걷는 길이 정해져 있으면 neutral\n",
      "31 참 좋을 텐데 neutral\n",
      "32 낯설지 않다, 이 풍경 neutral\n",
      "33 혹시 예전에 neutral\n",
      "34 나는 왕족이 아니었을까? neutral\n",
      "35 예릉을 올려다 볼 수 있는 작은 전망대 neutral\n",
      "36 가만히 서서 보고 있자니 마음의 작은 평화가 찾아온다 happy\n",
      "37 넓은 대지가 neutral\n",
      "38 양옆으로 펼쳐진 길 neutral\n",
      "39 들어가서 뛰놀고 싶다 neutral\n",
      "40 내가 가는 이 길이 어디로 가는지? embrassment\n",
      "41 어디로 날 데려가는지  그곳은 어디인지? embrassment\n",
      "42 이거 무슨 노래 가사였지? neutral\n",
      "43 뭐 어쨌든 기라 neutral\n",
      "44 날 어디로 데려다줄 거니? neutral\n",
      "45 추운 날에도 neutral\n",
      "46 잎이 무성한 나무가 가득한 길 neutral\n",
      "47 배움에는 끝이 없다는데 neutral\n",
      "48 배움의 길, 걷기편한 탄탄대로 neutral\n",
      "49 꼭 하나를 골라야 하는 갈림길 neutral\n",
      "50 그 중에 어디 길이 데려다주는 곳 neutral\n",
      "51 결국 여기구나. neutral\n",
      "52 금강산도 식후경 이라는데 밥 먹으러 다시 캠핑장으로 가자 neutral\n",
      "53 자고로 캠핑은 낭만이랬다 neutral\n",
      "54 음악이 빠지면 neutral\n",
      "55 서운하지 neutral\n",
      "56 주변에 사람이 없으니까 적당히 볼륨을 높여볼까? neutral\n",
      "57 할 수 있는 건 다 해 보기로 했다 neutral\n",
      "58 타닥타닥 neutral\n",
      "59 장작이 불타 올라오고 neutral\n",
      "60 2인분이나 준비했는데 다 먹을 수 있을까? embrassment\n",
      "61 원래 1인분이었나? embrassment\n",
      "62 잘못 산 것 같은데 embrassment\n",
      "63 만약 전생이 있다면 나는 분명 한량이었다 neutral\n",
      "64 평생 먹고 놀았으면 좋겠어 neutral\n",
      "65 장작 타는 소리와 스피커에서 흘러나오는 음악소리 neutral\n",
      "66 마음이 고요하다 neutral\n",
      "67 얼마나 이러고 있었던 거지? embrassment\n",
      "68 잠깐 눈만 감았던 것 같은데  가져온 것들은 다 챙겨가자 neutral\n",
      "69 흔적을 남기지 않는 사람이 되자 neutral\n",
      "70 배는 부르고 자꾸 눈은 감기고 neutral\n",
      "71 근데 나 여기 왜 온 거지? embrassment\n",
      "72 이것저것 즐기다 보니 완전히 잊고있었다. neutral\n",
      "73 내 길을 생각하러 왔었지 neutral\n",
      "74 근데 뭘 어떻게 생각해? embrassment\n",
      "75 어쩌면 나는 neutral\n",
      "76 길을 찾고 싶었던 게 아니라 그냥 길을 걷고 싶었던 것일지도 모른다 neutral\n",
      "77 내일은 내일의 해가 뜨고 neutral\n",
      "78 난 또 어딘가를 걷고 있겠지 neutral\n",
      "79 내일의 해를 기다리며 그럼 이제 돌아갈까? neutral\n"
     ]
    }
   ],
   "source": [
    "for n, i in enumerate (textdataList) :\n",
    "    print(n, i[2], i[3])\n",
    "\n",
    "    "
   ]
  },
  {
   "cell_type": "code",
   "execution_count": 8,
   "metadata": {},
   "outputs": [],
   "source": [
    "import cv2\n",
    "import numpy as np\n",
    "from PIL import ImageFont, ImageDraw, Image"
   ]
  },
  {
   "cell_type": "code",
   "execution_count": 9,
   "metadata": {},
   "outputs": [],
   "source": [
    "# 정의한 스타일 별 감정자막 출력\n",
    "dataList = textdataList\n",
    "\n",
    "for i, data in enumerate(dataList) :\n",
    "    text = data[2]\n",
    "    Label = data[3]\n",
    "    \n",
    "    def create_subtitle_image(text, font_path, font_size, color, bg_color, width, height):\n",
    "        img = np.full(shape=(height,width,3),fill_value=bg_color,dtype=np.uint8)\n",
    "        img = Image.fromarray(img) \n",
    "        draw = ImageDraw.Draw(img)\n",
    "        font = ImageFont.truetype(font_path, font_size)\n",
    "        org = (50, 100)\n",
    "        draw.text(org, text, font=font, fill=color) \n",
    "        return np.array(img) \n",
    "\n",
    "\n",
    "    # 최종 이미지 생성\n",
    "    def generate_images(text, font_path, font_size, color, bg_color, width, height):\n",
    "        img = create_subtitle_image(text, font_path, font_size, color, bg_color, width, height)\n",
    "        cv2.imwrite(f\"./output_img/{i}.png\", img, [cv2.IMWRITE_PNG_COMPRESSION, 0])\n",
    "\n",
    "    if Label == \"neutral\":\n",
    "        # 흰색, neutral, 중립\n",
    "        generate_images(text, \"./NotoSansKR-Black.otf\", 20, (0,0,0), 255, 512, 512)\n",
    "                \n",
    "    elif Label == \"embrassment\":\n",
    "        # 핑크색, embrassment, 당혹\n",
    "        generate_images(text, \"./NotoSansKR-Black.otf\", 20, (138,43,226), 255, 512, 512)\n",
    "                \n",
    "    elif Label == \"anxious\":\n",
    "        # 빨강색, anxious, 불안\n",
    "        generate_images(text, \"./NotoSansKR-Black.otf\", 20, (0, 0, 225), 255, 512, 512)\n",
    "            \n",
    "    elif Label == \"happy\":\n",
    "        # 하늘색, happy, 행복\n",
    "        generate_images(text, \"./NotoSansKR-Black.otf\", 20, (255, 255, 0), 255, 512, 512)\n",
    "\n"
   ]
  },
  {
   "attachments": {},
   "cell_type": "markdown",
   "metadata": {},
   "source": [
    "### 2. 영상 + 자막 이미지"
   ]
  },
  {
   "cell_type": "code",
   "execution_count": 10,
   "metadata": {},
   "outputs": [],
   "source": [
    "import cv2\n",
    "import numpy as np "
   ]
  },
  {
   "cell_type": "code",
   "execution_count": 11,
   "metadata": {},
   "outputs": [],
   "source": [
    "# 영상 파일과 자막 이미지 파일 이름\n",
<<<<<<< HEAD
    "video_file = \"/Users/jiyunlee/Desktop/test.mp4\""
=======
    "video_file = \"./input_video/test2_5m.mp4\""
>>>>>>> 9cb9c096f25d667171dbb195cb56b90375b0ce25
   ]
  },
  {
   "cell_type": "code",
<<<<<<< HEAD
   "execution_count": 12,
=======
   "execution_count": 28,
>>>>>>> 9cb9c096f25d667171dbb195cb56b90375b0ce25
   "metadata": {},
   "outputs": [
    {
     "name": "stdout",
     "output_type": "stream",
     "text": [
<<<<<<< HEAD
      "['./output_img/0.png', './output_img/1.png', './output_img/10.png', './output_img/11.png', './output_img/12.png', './output_img/13.png', './output_img/14.png', './output_img/15.png', './output_img/16.png', './output_img/17.png', './output_img/18.png', './output_img/19.png', './output_img/2.png', './output_img/20.png', './output_img/21.png', './output_img/22.png', './output_img/23.png', './output_img/24.png', './output_img/25.png', './output_img/26.png', './output_img/27.png', './output_img/28.png', './output_img/29.png', './output_img/3.png', './output_img/30.png', './output_img/31.png', './output_img/32.png', './output_img/33.png', './output_img/34.png', './output_img/35.png', './output_img/36.png', './output_img/37.png', './output_img/38.png', './output_img/39.png', './output_img/4.png', './output_img/40.png', './output_img/41.png', './output_img/42.png', './output_img/43.png', './output_img/44.png', './output_img/45.png', './output_img/46.png', './output_img/47.png', './output_img/48.png', './output_img/49.png', './output_img/5.png', './output_img/50.png', './output_img/51.png', './output_img/52.png', './output_img/53.png', './output_img/54.png', './output_img/55.png', './output_img/56.png', './output_img/57.png', './output_img/58.png', './output_img/59.png', './output_img/6.png', './output_img/60.png', './output_img/61.png', './output_img/62.png', './output_img/63.png', './output_img/64.png', './output_img/65.png', './output_img/66.png', './output_img/67.png', './output_img/68.png', './output_img/69.png', './output_img/7.png', './output_img/70.png', './output_img/71.png', './output_img/72.png', './output_img/73.png', './output_img/74.png', './output_img/75.png', './output_img/76.png', './output_img/77.png', './output_img/78.png', './output_img/79.png', './output_img/8.png', './output_img/9.png']\n"
=======
      "['./output_img/0.png', './output_img/1.png', './output_img/2.png', './output_img/3.png', './output_img/4.png', './output_img/5.png', './output_img/6.png', './output_img/7.png', './output_img/8.png', './output_img/9.png', './output_img/10.png', './output_img/11.png', './output_img/12.png', './output_img/13.png', './output_img/14.png', './output_img/15.png', './output_img/16.png', './output_img/17.png', './output_img/18.png', './output_img/19.png', './output_img/20.png', './output_img/21.png', './output_img/22.png', './output_img/23.png', './output_img/24.png', './output_img/25.png', './output_img/26.png', './output_img/27.png', './output_img/28.png', './output_img/29.png', './output_img/30.png', './output_img/31.png', './output_img/32.png', './output_img/33.png', './output_img/34.png', './output_img/35.png', './output_img/36.png', './output_img/37.png', './output_img/38.png', './output_img/39.png', './output_img/40.png', './output_img/41.png', './output_img/42.png', './output_img/43.png']\n"
>>>>>>> 9cb9c096f25d667171dbb195cb56b90375b0ce25
     ]
    }
   ],
   "source": [
<<<<<<< HEAD
=======
    "# 오름차순으로 리스트 담기\n",
>>>>>>> 9cb9c096f25d667171dbb195cb56b90375b0ce25
    "import os\n",
    "from glob import glob\n",
    "\n",
    "folder_path = './output_img'\n",
    "image_extensions = 'png'\n",
    "\n",
    "def is_image(filename):\n",
    "    return any(filename.endswith(ext) for ext in image_extensions)\n",
    "\n",
    "subtitle_images_list = []\n",
    "subtitle_images_list = sorted([f for f in glob(os.path.join(folder_path, '*')) if is_image(f)])\n",
<<<<<<< HEAD
    "print(subtitle_images_list)\n"
=======
    "subtitle_images_list = sorted(subtitle_images_list, key=lambda x: int(os.path.splitext(os.path.basename(x))[0]))\n",
    "\n",
    "print(subtitle_images_list)"
>>>>>>> 9cb9c096f25d667171dbb195cb56b90375b0ce25
   ]
  },
  {
   "cell_type": "code",
<<<<<<< HEAD
   "execution_count": 144,
=======
   "execution_count": 29,
>>>>>>> 9cb9c096f25d667171dbb195cb56b90375b0ce25
   "metadata": {},
   "outputs": [
    {
     "data": {
<<<<<<< HEAD
      "image/png": "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",
=======
      "image/png": "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",
>>>>>>> 9cb9c096f25d667171dbb195cb56b90375b0ce25
      "text/plain": [
       "<Figure size 2000x500 with 4 Axes>"
      ]
     },
     "metadata": {},
     "output_type": "display_data"
    }
   ],
   "source": [
    "import matplotlib.pyplot as plt\n",
    "import cv2\n",
    "\n",
    "# 순서대로 neutral, embrassment, anxious, happy\n",
<<<<<<< HEAD
    "subtitle_images_list = ['./output_img/0.png', './output_img/4.png', './output_img/8.png', './output_img/27.png']\n",
    "\n",
    "fig, axs = plt.subplots(1, 4, figsize=(20, 5))\n",
    "for ax, img_path in zip(axs.flat, subtitle_images_list):\n",
=======
    "subtitleImages = ['./output_img/0.png', './output_img/4.png', './output_img/8.png', './output_img/27.png']\n",
    "\n",
    "fig, axs = plt.subplots(1, 4, figsize=(20, 5))\n",
    "for ax, img_path in zip(axs.flat, subtitleImages):\n",
>>>>>>> 9cb9c096f25d667171dbb195cb56b90375b0ce25
    "    img = cv2.imread(img_path)\n",
    "    ax.imshow(img)\n",
    "\n",
    "plt.show()\n"
   ]
  },
  {
   "attachments": {},
   "cell_type": "markdown",
   "metadata": {},
   "source": [
    "### 3. Time stamp에 따라 여러 자막 이미지를 영상과 합성"
   ]
  },
  {
   "cell_type": "code",
<<<<<<< HEAD
   "execution_count": null,
=======
   "execution_count": 1,
>>>>>>> 9cb9c096f25d667171dbb195cb56b90375b0ce25
   "metadata": {},
   "outputs": [],
   "source": [
    "import cv2\n",
    "import numpy as np "
   ]
  },
  {
   "cell_type": "code",
   "execution_count": 2,
   "metadata": {},
   "outputs": [],
   "source": [
<<<<<<< HEAD
    "import cv2\n",
    "import numpy as np\n",
    "\n",
    "img1 = cv2.imread(\"./subtitle.png\")\n",
    "img2 = cv2.imread(\"./st2.png\")\n",
    "\n",
    "# 사진 사이즈 맞추기\n",
    "rows, cols, _ = np.shape(img1)\n",
    "img2 = cv2.resize(img2, (cols, rows))\n"
=======
    "# 영상 파일과 자막 이미지 파일 리스트\n",
    "video_file = \"./input_video/test2_5m.mp4\"\n",
    "# subtitle_image_files = [img1, img2]\n",
    "# subtitle_images_list"
   ]
  },
  {
   "cell_type": "code",
   "execution_count": 3,
   "metadata": {},
   "outputs": [
    {
     "name": "stdout",
     "output_type": "stream",
     "text": [
      "['./input_img/happy2.png', './input_img/sad.png']\n"
     ]
    }
   ],
   "source": [
    "# 감정표현 효과\n",
    "import os\n",
    "from glob import glob\n",
    "\n",
    "folder_path = './input_img'\n",
    "image_extensions = 'png'\n",
    "\n",
    "def is_image(filename):\n",
    "    return any(filename.endswith(ext) for ext in image_extensions)\n",
    "\n",
    "ima_list = []\n",
    "ima_list = sorted([f for f in glob(os.path.join(folder_path, '*')) if is_image(f)])\n",
    "#ima_list = sorted(ima_list, key=lambda x: int(os.path.splitext(os.path.basename(x))[0]))\n",
    "\n",
    "print(ima_list)"
>>>>>>> 9cb9c096f25d667171dbb195cb56b90375b0ce25
   ]
  },
  {
   "cell_type": "code",
<<<<<<< HEAD
   "execution_count": null,
   "metadata": {},
   "outputs": [],
   "source": [
    "# 영상 파일과 자막 이미지 파일 리스트\n",
    "video_file = \"./test3.mp4\"\n",
    "subtitle_image_files = [img1, img2]"
=======
   "execution_count": 14,
   "metadata": {},
   "outputs": [],
   "source": [
    "from PIL import Image\n",
    "#for i in range(1,1001):\n",
    "im = Image.open('./input_img/happy2.png')\n",
    "#im.save(str(i)+'.png')\n",
    "#img = Image.open(str(i)+'.png')\n",
    "img = im.convert(\"RGBA\")\n",
    "datas =img.getdata()\n",
    "newData = []\n",
    "cutOff = 50\n",
    "\n",
    "for item in datas:\n",
    "    if item[0] < cutOff and item[1] < cutOff and item[2] < cutOff:\n",
    "        newData.append((0, 0, 0, 0))\n",
    "#             RGB의 각 요소가 모두 cutOff 이상이면 transparent하게 바꿔줍니다.\n",
    "#         elif item[0] == 191 and item[1] == 206 and item[2] == 225:\n",
    "#             newData.append((0, 0, 0, 0))\n",
    "#         elif item[0] == 219 and item[1] == 211 and item[2] == 224:\n",
    "#             newData.append((0, 0, 0, 0))\n",
    "#         elif item[0] == 199 and item[1] == 191 and item[2] == 204:\n",
    "#             newData.append((0, 0, 0, 0))\n",
    "#         elif item[0] == 189 and item[1] == 205 and item[2] == 228:\n",
    "#             newData.append((0, 0, 0, 0))\n",
    "#         elif item[0] == 194 and item[1] == 206 and item[2] == 222:\n",
    "#             newData.append((0, 0, 0, 0))\n",
    "#         elif 185 <= item[0] and item[0] <= 220 and 185 <= item[1] and item[1] <= 210 and 200 <= item[2] and item[2] <= 225 :\n",
    "#             newData.append((0, 0, 0, 0))\n",
    "        \n",
    "    else:\n",
    "        newData.append(item)\n",
    "            \n",
    "img.putdata(newData)\n",
    "img.save('./concat2.png', \"PNG\")"
>>>>>>> 9cb9c096f25d667171dbb195cb56b90375b0ce25
   ]
  },
  {
   "cell_type": "code",
<<<<<<< HEAD
   "execution_count": null,
   "metadata": {},
   "outputs": [],
=======
   "execution_count": 4,
   "metadata": {},
   "outputs": [
    {
     "name": "stdout",
     "output_type": "stream",
     "text": [
      "1280 720\n"
     ]
    }
   ],
>>>>>>> 9cb9c096f25d667171dbb195cb56b90375b0ce25
   "source": [
    "# 영상 파일 열기\n",
    "video_capture = cv2.VideoCapture(video_file)\n",
    "\n",
    "# 영상 크기 얻기\n",
    "video_width = int(video_capture.get(3))\n",
<<<<<<< HEAD
    "video_height = int(video_capture.get(4))"
=======
    "video_height = int(video_capture.get(4))\n",
    "print(video_width, video_height)"
>>>>>>> 9cb9c096f25d667171dbb195cb56b90375b0ce25
   ]
  },
  {
   "cell_type": "code",
<<<<<<< HEAD
   "execution_count": null,
   "metadata": {},
   "outputs": [],
   "source": [
    "# 자막 이미지 리스트\n",
    "subtitle_images = []\n",
    "for subtitle_image_file in subtitle_image_files:\n",
=======
   "execution_count": 14,
   "metadata": {},
   "outputs": [
    {
     "name": "stdout",
     "output_type": "stream",
     "text": [
      "770 132\n"
     ]
    }
   ],
   "source": [
    "# 영상 파일 열기\n",
    "a = \"./input_img/happy2.png\"\n",
    "video_capture = cv2.VideoCapture(a)\n",
    "\n",
    "# 영상 크기 얻기\n",
    "video_width = int(video_capture.get(3))\n",
    "video_height = int(video_capture.get(4))\n",
    "print(video_width, video_height)"
   ]
  },
  {
   "cell_type": "code",
   "execution_count": 7,
   "metadata": {},
   "outputs": [
    {
     "name": "stdout",
     "output_type": "stream",
     "text": [
      "128 1280\n"
     ]
    },
    {
     "name": "stderr",
     "output_type": "stream",
     "text": [
      "libpng warning: iCCP: known incorrect sRGB profile\n"
     ]
    }
   ],
   "source": [
    "import cv2\n",
    "import numpy as np\n",
    "\n",
    "img0 = cv2.imread(\"./output_img/0.png\")\n",
    "img1 = cv2.imread(\"./input_img/happy2.png\")\n",
    "img2 = cv2.imread(\"./input_img/sad.png\")\n",
    "\n",
    "# 사진 사이즈 맞추기\n",
    "rows, cols, _ = np.shape(img0)\n",
    "cols = video_width \n",
    "rows = int(rows/4)\n",
    "img1 = cv2.resize(img1, (cols, rows))\n",
    "img2 = cv2.resize(img2, (cols, rows))\n",
    "cv2.imwrite(\"./input_img1.png\", img1, [cv2.IMWRITE_PNG_COMPRESSION, 0])\n",
    "cv2.imwrite(\"./input_img2.png\", img2, [cv2.IMWRITE_PNG_COMPRESSION, 0])\n",
    "ima_list = [\"./input_img1.png\", \"./input_img2.png\"]\n",
    "print(rows, cols)"
   ]
  },
  {
   "cell_type": "code",
   "execution_count": 5,
   "metadata": {},
   "outputs": [],
   "source": [
    "ima_list = [\"./input_img/happy2.png\", \"./input_img/happy2.png\"]"
   ]
  },
  {
   "cell_type": "code",
   "execution_count": 10,
   "metadata": {},
   "outputs": [
    {
     "ename": "NameError",
     "evalue": "name 'subtitle_images_list' is not defined",
     "output_type": "error",
     "traceback": [
      "\u001b[0;31m---------------------------------------------------------------------------\u001b[0m",
      "\u001b[0;31mNameError\u001b[0m                                 Traceback (most recent call last)",
      "Cell \u001b[0;32mIn [10], line 3\u001b[0m\n\u001b[1;32m      1\u001b[0m \u001b[39m# 자막 이미지 리스트\u001b[39;00m\n\u001b[1;32m      2\u001b[0m subtitle_images \u001b[39m=\u001b[39m []\n\u001b[0;32m----> 3\u001b[0m \u001b[39mfor\u001b[39;00m subtitle_image_file \u001b[39min\u001b[39;00m subtitle_images_list:\n\u001b[1;32m      4\u001b[0m     subtitle_image \u001b[39m=\u001b[39m cv2\u001b[39m.\u001b[39mimread(subtitle_image_file)\n\u001b[1;32m      5\u001b[0m     subtitle_images\u001b[39m.\u001b[39mappend(subtitle_image)\n",
      "\u001b[0;31mNameError\u001b[0m: name 'subtitle_images_list' is not defined"
     ]
    }
   ],
   "source": [
    "# 자막 이미지 리스트\n",
    "'''subtitle_images = []\n",
    "for subtitle_image_file in subtitle_images_list:\n",
>>>>>>> 9cb9c096f25d667171dbb195cb56b90375b0ce25
    "    subtitle_image = cv2.imread(subtitle_image_file)\n",
    "    subtitle_images.append(subtitle_image)\n",
    "\n",
    "subtitle_images = []\n",
    "subtitle_heights = []\n",
    "subtitle_widths = []\n",
<<<<<<< HEAD
    "for subtitle_image_file in subtitle_image_files:\n",
=======
    "for subtitle_image_file in subtitle_images_list:\n",
>>>>>>> 9cb9c096f25d667171dbb195cb56b90375b0ce25
    "    subtitle_image = cv2.imread(subtitle_image_file)\n",
    "    subtitle_images.append(subtitle_image)\n",
    "    subtitle_height, subtitle_width, _ = subtitle_image.shape\n",
    "    subtitle_heights.append(subtitle_height)\n",
<<<<<<< HEAD
    "    subtitle_widths.append(subtitle_width)"
=======
    "    subtitle_widths.append(subtitle_width)\n",
    "print(len(subtitle_images))\n"
>>>>>>> 9cb9c096f25d667171dbb195cb56b90375b0ce25
   ]
  },
  {
   "cell_type": "code",
<<<<<<< HEAD
   "execution_count": null,
   "metadata": {},
   "outputs": [],
   "source": [
    "### 타임스탬프 초 단위 환산\n",
    "start_times = ['01:02:25:11']\n",
    "end_times = ['01:02:35:22']\n",
    "\n",
=======
   "execution_count": 6,
   "metadata": {},
   "outputs": [
    {
     "name": "stdout",
     "output_type": "stream",
     "text": [
      "2\n"
     ]
    }
   ],
   "source": [
    "# 자막 이미지 리스트\n",
    "subtitle_images = []\n",
    "for subtitle_image_file in ima_list:\n",
    "    subtitle_image = cv2.imread(subtitle_image_file)\n",
    "    subtitle_images.append(subtitle_image)\n",
    "\n",
    "subtitle_images = []\n",
    "subtitle_heights = []\n",
    "subtitle_widths = []\n",
    "for subtitle_image_file in ima_list:\n",
    "    subtitle_image = cv2.imread(subtitle_image_file)\n",
    "    subtitle_images.append(subtitle_image)\n",
    "    subtitle_height, subtitle_width, _ = subtitle_image.shape\n",
    "    subtitle_heights.append(subtitle_height)\n",
    "    subtitle_widths.append(subtitle_width)\n",
    "print(len(subtitle_images))\n"
   ]
  },
  {
   "cell_type": "code",
   "execution_count": 33,
   "metadata": {},
   "outputs": [
    {
     "name": "stdout",
     "output_type": "stream",
     "text": [
      "[5.26, 24.24, 28.07, 33.26, 36.05, 51.13, 101.29, 106.28, 109.19, 112.06, 117.19, 123.01, 125.12, 131.14, 133.22, 136.21, 141.07, 145.11, 148.08, 165.06, 167.02, 176.05, 179.23, 180.18, 192.29, 195.04, 197.23, 211.07, 231.12, 235.26, 237.06, 245.02, 262.23, 273.09, 274.23, 303.16, 309.02, 320.02, 321.0, 332.07, 341.03, 344.1, 354.1, 358.15, 360.12, 365.08, 366.03, 371.25, 383.08, 410.24, 413.11, 421.05, 424.22, 432.12, 436.15, 437.09, 446.05, 503.29, 506.22, 511.02, 525.29, 558.05, 562.24, 571.14, 575.05, 578.02, 586.08, 624.08, 626.14, 635.04, 664.05, 667.18, 672.27, 675.11, 682.09, 687.0, 688.01, 692.15, 697.04, 711.28]\n",
      "[8.08, 27.22, 32.21, 36.05, 37.24, 54.17, 106.18, 109.19, 111.21, 115.26, 123.01, 125.12, 130.06, 133.22, 136.15, 140.21, 144.06, 148.08, 160.21, 167.02, 169.05, 178.25, 180.18, 192.29, 195.0, 197.23, 208.15, 231.12, 234.2, 237.06, 245.02, 247.04, 264.23, 274.23, 303.16, 307.19, 312.24, 321.0, 331.26, 335.15, 343.16, 349.18, 356.27, 360.12, 363.0, 366.03, 371.25, 381.12, 392.29, 413.11, 420.18, 424.22, 428.18, 436.07, 437.09, 446.05, 451.23, 506.22, 510.2, 514.1, 529.0, 562.06, 571.14, 574.12, 578.02, 583.27, 590.01, 626.14, 634.16, 664.05, 666.23, 669.16, 675.11, 680.04, 684.28, 688.01, 691.25, 696.26, 704.26, 715.08]\n"
     ]
    }
   ],
   "source": [
    "# 타임스탬프 -> 초 단위로 변환\n",
>>>>>>> 9cb9c096f25d667171dbb195cb56b90375b0ce25
    "def convert_to_seconds(time):\n",
    "    h, m, s, ms = map(int, time.split(':'))\n",
    "    return 3600 * h + 60 * m + s + ms / 100.0\n",
    "\n",
<<<<<<< HEAD
    "start_times = [convert_to_seconds(time) for time in start_times]\n",
    "end_times = [convert_to_seconds(time) for time in end_times]\n",
    "\n",
    "print(start_times)\n",
=======
    "startTimes = [convert_to_seconds(time) for time in startTime]\n",
    "endTimes = [convert_to_seconds(time) for time in endTime]\n",
    "\n",
    "print(startTimes)\n",
    "print(endTimes)"
   ]
  },
  {
   "cell_type": "code",
   "execution_count": 34,
   "metadata": {},
   "outputs": [
    {
     "name": "stdout",
     "output_type": "stream",
     "text": [
      "44\n",
      "[8.08, 27.22, 32.21, 36.05, 37.24, 54.17, 106.18, 109.19, 111.21, 115.26, 123.01, 125.12, 130.06, 133.22, 136.15, 140.21, 144.06, 148.08, 160.21, 167.02, 169.05, 178.25, 180.18, 192.29, 195.0, 197.23, 208.15, 231.12, 234.2, 237.06, 245.02, 247.04, 264.23, 274.23, 303.16, 307.19, 312.24, 321.0, 331.26, 335.15, 343.16, 349.18, 356.27]\n"
     ]
    }
   ],
   "source": [
    "# 5분 이상(360초) 타임스탬프 제외\n",
    "start_times, end_times = [], []\n",
    "for start in startTimes:\n",
    "    if start < 360 :\n",
    "        start_times.append(start)\n",
    "    else :\n",
    "        pass\n",
    "\n",
    "for end in endTimes:\n",
    "    if end < 360 :\n",
    "        end_times.append(end)\n",
    "    else :\n",
    "        pass\n",
    "print(len(start_times))\n",
>>>>>>> 9cb9c096f25d667171dbb195cb56b90375b0ce25
    "print(end_times)"
   ]
  },
  {
   "cell_type": "code",
<<<<<<< HEAD
   "execution_count": null,
   "metadata": {},
   "outputs": [],
   "source": [
    "### 타임스탬프에 따라 자막 이미지 합성\n",
    "output_file = \"./result4.mp4\"\n",
=======
   "execution_count": 7,
   "metadata": {},
   "outputs": [],
   "source": [
    "### 타임스탬프에 따른 영상과 자막 이미지 합성\n",
    "start_times = [5.26, 10.01]\n",
    "end_times = [8.08, 13.01]\n",
    "\n",
    "output_file = \"./concat2.mp4\"\n",
>>>>>>> 9cb9c096f25d667171dbb195cb56b90375b0ce25
    "\n",
    "fourcc = cv2.VideoWriter_fourcc(*'mp4v')\n",
    "out = cv2.VideoWriter(output_file, fourcc, 20.0, (video_width, video_height))\n",
    "\n",
<<<<<<< HEAD
    "start_times = [5.26, 24.24]\n",
    "end_times = [8.08, 27.22]\n",
    "\n",
=======
>>>>>>> 9cb9c096f25d667171dbb195cb56b90375b0ce25
    "frame_counter = 0\n",
    "i = 0\n",
    "while True:\n",
    "    ret, frame = video_capture.read()\n",
    "    if not ret:\n",
    "        break\n",
    "    \n",
    "    if i < len(start_times) and frame_counter / 20.0 >= start_times[i]:\n",
    "        subtitle_image = subtitle_images[i]\n",
    "        subtitle_height, subtitle_width, _ = subtitle_image.shape\n",
    "        x_offset = (video_width - subtitle_width) // 2\n",
    "        y_offset = video_height - subtitle_height\n",
    "        roi = frame[y_offset:y_offset+subtitle_height, x_offset:x_offset+subtitle_width]\n",
    "        img2gray = cv2.cvtColor(subtitle_image, cv2.COLOR_BGR2RGB)\n",
    "        img2gray = cv2.cvtColor(img2gray, cv2.COLOR_RGB2GRAY)\n",
    "        ret, mask = cv2.threshold(img2gray, 10, 255, cv2.THRESH_BINARY)\n",
    "        mask_inv = cv2.bitwise_not(mask)\n",
    "        img1_bg = cv2.bitwise_and(roi, roi, mask=mask_inv)\n",
    "        img2_fg = cv2.bitwise_and(subtitle_image, subtitle_image, mask=mask)\n",
    "        dst = cv2.add(img1_bg, img2_fg)\n",
    "        frame[y_offset:y_offset+subtitle_height, x_offset:x_offset+subtitle_width] = dst\n",
    "    \n",
    "    out.write(frame)\n",
    "    frame_counter += 1\n",
    "    \n",
    "    if i < len(end_times) and frame_counter / 20.0 >= end_times[i]:\n",
    "        i += 1\n",
    "\n",
    "out.release()\n"
   ]
<<<<<<< HEAD
=======
  },
  {
   "attachments": {},
   "cell_type": "markdown",
   "metadata": {},
   "source": [
    "### 오디오와 동영상 합성"
   ]
  },
  {
   "cell_type": "code",
   "execution_count": 38,
   "metadata": {},
   "outputs": [
    {
     "name": "stdout",
     "output_type": "stream",
     "text": [
      "MoviePy - Writing audio in ./input_video/test2_audio.mp3\n"
     ]
    },
    {
     "name": "stderr",
     "output_type": "stream",
     "text": [
      "                                                                      "
     ]
    },
    {
     "name": "stdout",
     "output_type": "stream",
     "text": [
      "MoviePy - Done.\n"
     ]
    },
    {
     "name": "stderr",
     "output_type": "stream",
     "text": [
      "\r"
     ]
    }
   ],
   "source": [
    "# 원본 테스트 영상에서 오디오 추출\n",
    "import moviepy.editor as mp\n",
    "\n",
    "clip = mp.VideoFileClip(\"./input_video/test2_5m.mp4\")\n",
    "clip.audio.write_audiofile(\"./input_video/test2_audio.mp3\")"
   ]
  },
  {
   "cell_type": "code",
   "execution_count": 40,
   "metadata": {},
   "outputs": [
    {
     "name": "stderr",
     "output_type": "stream",
     "text": [
      "ffmpeg version 5.1.2 Copyright (c) 2000-2022 the FFmpeg developers\n",
      "  built with Apple clang version 14.0.0 (clang-1400.0.29.202)\n",
      "  configuration: --prefix=/usr/local/Cellar/ffmpeg/5.1.2_4 --enable-shared --enable-pthreads --enable-version3 --cc=clang --host-cflags= --host-ldflags= --enable-ffplay --enable-gnutls --enable-gpl --enable-libaom --enable-libaribb24 --enable-libbluray --enable-libdav1d --enable-libmp3lame --enable-libopus --enable-librav1e --enable-librist --enable-librubberband --enable-libsnappy --enable-libsrt --enable-libsvtav1 --enable-libtesseract --enable-libtheora --enable-libvidstab --enable-libvmaf --enable-libvorbis --enable-libvpx --enable-libwebp --enable-libx264 --enable-libx265 --enable-libxml2 --enable-libxvid --enable-lzma --enable-libfontconfig --enable-libfreetype --enable-frei0r --enable-libass --enable-libopencore-amrnb --enable-libopencore-amrwb --enable-libopenjpeg --enable-libspeex --enable-libsoxr --enable-libzmq --enable-libzimg --disable-libjack --disable-indev=jack --enable-videotoolbox\n",
      "  libavutil      57. 28.100 / 57. 28.100\n",
      "  libavcodec     59. 37.100 / 59. 37.100\n",
      "  libavformat    59. 27.100 / 59. 27.100\n",
      "  libavdevice    59.  7.100 / 59.  7.100\n",
      "  libavfilter     8. 44.100 /  8. 44.100\n",
      "  libswscale      6.  7.100 /  6.  7.100\n",
      "  libswresample   4.  7.100 /  4.  7.100\n",
      "  libpostproc    56.  6.100 / 56.  6.100\n",
      "Input #0, mov,mp4,m4a,3gp,3g2,mj2, from './concat.mp4':\n",
      "  Metadata:\n",
      "    major_brand     : isom\n",
      "    minor_version   : 512\n",
      "    compatible_brands: isomiso2mp41\n",
      "    encoder         : Lavf59.27.100\n",
      "  Duration: 00:07:29.75, start: 0.000000, bitrate: 2606 kb/s\n",
      "  Stream #0:0[0x1](und): Video: mpeg4 (Simple Profile) (mp4v / 0x7634706D), yuv420p, 1280x720 [SAR 1:1 DAR 16:9], 2605 kb/s, 20 fps, 20 tbr, 10240 tbn (default)\n",
      "    Metadata:\n",
      "      handler_name    : VideoHandler\n",
      "      vendor_id       : [0][0][0][0]\n",
      "Input #1, mp3, from './input_video/test2_audio.mp3':\n",
      "  Metadata:\n",
      "    encoder         : Lavf58.29.100\n",
      "  Duration: 00:05:00.15, start: 0.025057, bitrate: 128 kb/s\n",
      "  Stream #1:0: Audio: mp3, 44100 Hz, stereo, fltp, 128 kb/s\n",
      "    Metadata:\n",
      "      encoder         : Lavc58.54\n",
      "Stream mapping:\n",
      "  Stream #0:0 -> #0:0 (copy)\n",
      "  Stream #1:0 -> #0:1 (mp3 (mp3float) -> aac (native))\n",
      "Press [q] to stop, [?] for help\n",
      "Output #0, mp4, to './final_output.mp4':\n",
      "  Metadata:\n",
      "    major_brand     : isom\n",
      "    minor_version   : 512\n",
      "    compatible_brands: isomiso2mp41\n",
      "    encoder         : Lavf59.27.100\n",
      "  Stream #0:0(und): Video: mpeg4 (Simple Profile) (mp4v / 0x7634706D), yuv420p, 1280x720 [SAR 1:1 DAR 16:9], q=2-31, 2605 kb/s, 20 fps, 20 tbr, 10240 tbn (default)\n",
      "    Metadata:\n",
      "      handler_name    : VideoHandler\n",
      "      vendor_id       : [0][0][0][0]\n",
      "  Stream #0:1: Audio: aac (LC) (mp4a / 0x6134706D), 44100 Hz, stereo, fltp, 128 kb/s\n",
      "    Metadata:\n",
      "      encoder         : Lavc59.37.100 aac\n",
      "frame= 8995 fps=1024 q=-1.0 Lsize=  147895kB time=00:07:29.70 bitrate=2694.1kbits/s speed=51.2x    \n",
      "video:143037kB audio:4698kB subtitle:0kB other streams:0kB global headers:0kB muxing overhead: 0.108004%\n",
      "[aac @ 0x7f7e6f811500] Qavg: 1758.945\n"
     ]
    },
    {
     "data": {
      "text/plain": [
       "0"
      ]
     },
     "execution_count": 40,
     "metadata": {},
     "output_type": "execute_result"
    }
   ],
   "source": [
    "# 합성영상과 오디오 재합성\n",
    "import subprocess\n",
    "import os\n",
    "\n",
    "video_file = \"./concat.mp4\"\n",
    "audio_file = \"./input_video/test2_audio.mp3\"\n",
    "output_file = \"./final_output.mp4\"\n",
    "\n",
    "command = (f\"ffmpeg -i {video_file} -i {audio_file} -c:v copy -c:a aac -strict experimental {output_file}\")\n",
    "subprocess.call(command, shell=True)"
   ]
  },
  {
   "attachments": {},
   "cell_type": "markdown",
   "metadata": {},
   "source": [
    "### 영상 + 자막"
   ]
  },
  {
   "cell_type": "code",
   "execution_count": null,
   "metadata": {},
   "outputs": [],
   "source": [
    "import moviepy.editor as mp\n",
    "\n",
    "video = mp.VideoFileClip(\"video.mp4\")\n",
    "caption = mp.TextClip(\"Caption text\", fontsize=24, color='white')\n",
    "caption = caption.set_position('bottom').set_duration(10)\n",
    "final_video = mp.CompositeVideoClip([video, caption])\n",
    "final_video.write_videofile(\"final_video.mp4\")\n"
   ]
  },
  {
   "cell_type": "code",
   "execution_count": null,
   "metadata": {},
   "outputs": [],
   "source": [
    "import cv2\n",
    "\n",
    "video = cv2.VideoCapture(\"video.mp4\")\n",
    "frame_width = int(video.get(3))\n",
    "frame_height = int(video.get(4))\n",
    "fourcc = cv2.VideoWriter_fourcc(*'mp4v')\n",
    "out = cv2.VideoWriter('output.mp4', fourcc, 20.0, (frame_width, frame_height))\n",
    "\n",
    "while True:\n",
    "    ret, frame = video.read()\n",
    "    if not ret:\n",
    "        break\n",
    "\n",
    "    font = cv2.FONT_HERSHEY_SIMPLEX\n",
    "    bottomLeftCornerOfText = (10,500)\n",
    "    fontScale = 1\n",
    "    fontColor = (255,255,255)\n",
    "    lineType = 2\n",
    "\n",
    "    cv2.putText(frame, 'Caption text', \n",
    "        bottomLeftCornerOfText, \n",
    "        font, \n",
    "        fontScale,\n",
    "        fontColor,\n",
    "        lineType)\n",
    "\n",
    "    out.write(frame)\n",
    "\n",
    "video.release()\n",
    "out.release()\n"
   ]
  },
  {
   "cell_type": "code",
   "execution_count": 2,
   "metadata": {},
   "outputs": [
    {
     "name": "stdout",
     "output_type": "stream",
     "text": [
      "Moviepy - Building video text_video.mp4.\n",
      "MoviePy - Writing audio in text_videoTEMP_MPY_wvf_snd.mp3\n"
     ]
    },
    {
     "name": "stderr",
     "output_type": "stream",
     "text": [
      "                                                                      \r"
     ]
    },
    {
     "name": "stdout",
     "output_type": "stream",
     "text": [
      "MoviePy - Done.\n",
      "Moviepy - Writing video text_video.mp4\n",
      "\n"
     ]
    },
    {
     "name": "stderr",
     "output_type": "stream",
     "text": [
      "                                                                \r"
     ]
    },
    {
     "name": "stdout",
     "output_type": "stream",
     "text": [
      "Moviepy - Done !\n",
      "Moviepy - video ready text_video.mp4\n"
     ]
    }
   ],
   "source": [
    "import numpy as np\n",
    "from PIL import Image, ImageDraw, ImageFont\n",
    "import moviepy.editor as mp\n",
    "\n",
    "# Load the video\n",
    "video = mp.VideoFileClip(\"./input_video/test2_5m.mp4\")\n",
    "\n",
    "# Create an image for the caption\n",
    "caption_img = Image.new(\"RGBA\", (video.w, 50), (0, 0, 0, 0))\n",
    "draw = ImageDraw.Draw(caption_img)\n",
    "font = ImageFont.truetype(\"./NotoSansKR-Black.otf\", 24)\n",
    "draw.text((0, 0), \"Caption Test\", (255, 255, 255), font=font)\n",
    "\n",
    "# Convert the image to a numpy array and add it as a clip to the video\n",
    "caption = mp.ImageClip(np.array(caption_img)).set_duration(10)\n",
    "final_video = mp.CompositeVideoClip([video, caption.set_pos((\"center\", 550))])\n",
    "\n",
    "# Write the final video to disk\n",
    "final_video.write_videofile(\"text_video.mp4\")\n"
   ]
  },
  {
   "cell_type": "code",
   "execution_count": null,
   "metadata": {},
   "outputs": [],
   "source": [
    "# Load the video\n",
    "video = mp.VideoFileClip(\"./input_video/test_1m.mp4\")\n",
    "\n",
    "# Define start times and end times\n",
    "starttimes = [5.26, 24.24]\n",
    "endtimes = [8.08, 27.22]\n",
    "\n",
    "# Define the captions\n",
    "captions = ['처음부터 혼자가 하려던 건 아니었다', '연결이 되지 않아 사서함으로 연결되며']\n",
    "\n",
    "# Create the caption clips\n",
    "caption_clips = [mp.TextClip(caption, fontsize=24, color='white', font='./NotoSansKR-Black.otf', size=video.size).set_duration(endtime-starttime).set_start(starttime) for caption, starttime, endtime in zip(captions, starttimes, endtimes)]\n",
    "\n",
    "# Combine the video and captions\n",
    "final_video = mp.CompositeVideoClip([video]+caption_clips)\n",
    "\n",
    "# Write the final video to disk\n",
    "final_video.write_videofile(\"text_video.mp4\")\n"
   ]
  },
  {
   "cell_type": "code",
   "execution_count": 8,
   "metadata": {},
   "outputs": [
    {
     "name": "stderr",
     "output_type": "stream",
     "text": [
      "OpenCV: FFMPEG: tag 0x44495658/'XVID' is not supported with codec id 12 and format 'mp4 / MP4 (MPEG-4 Part 14)'\n",
      "OpenCV: FFMPEG: fallback to use tag 0x7634706d/'mp4v'\n"
     ]
    }
   ],
   "source": [
    "import cv2\n",
    "\n",
    "# Load the video\n",
    "cap = cv2.VideoCapture(\"./input_video/test_1m.mp4\")\n",
    "\n",
    "# Get video properties\n",
    "fps = cap.get(cv2.CAP_PROP_FPS)\n",
    "frame_width = int(cap.get(cv2.CAP_PROP_FRAME_WIDTH))\n",
    "frame_height = int(cap.get(cv2.CAP_PROP_FRAME_HEIGHT))\n",
    "\n",
    "# Define the codec and create a VideoWriter object\n",
    "fourcc = cv2.VideoWriter_fourcc(*\"XVID\")\n",
    "out = cv2.VideoWriter(\"output.mp4\", fourcc, fps, (frame_width, frame_height))\n",
    "\n",
    "# Define the font to use\n",
    "font = cv2.FONT_HERSHEY_SIMPLEX\n",
    "\n",
    "# Start processing the video frames\n",
    "while cap.isOpened():\n",
    "    ret, frame = cap.read()\n",
    "    if ret:\n",
    "        # Add text to the frame\n",
    "        text = \"예시 입니다.\"\n",
    "        (text_width, text_height), baseline = cv2.getTextSize(text, font, 1, 2)\n",
    "        text_x = (frame_width - text_width) // 2\n",
    "        text_y = (frame_height + text_height) // 2\n",
    "        cv2.putText(frame, text, (text_x, text_y), font, 1, (255, 255, 255), 2, cv2.LINE_AA)\n",
    "\n",
    "        # Write the frame to the output file\n",
    "        out.write(frame)\n",
    "    else:\n",
    "        break\n",
    "\n",
    "# Clean up\n",
    "cap.release()\n",
    "out.release()\n",
    "cv2.destroyAllWindows()\n"
   ]
  },
  {
   "cell_type": "code",
   "execution_count": 10,
   "metadata": {},
   "outputs": [],
   "source": [
    "import cv2\n",
    "import numpy as np\n",
    "\n",
    "# Load the video\n",
    "video = cv2.VideoCapture(\"./input_video/test_1m.mp4\")\n",
    "\n",
    "# Get the video's dimensions\n",
    "frame_width = int(video.get(3))\n",
    "frame_height = int(video.get(4))\n",
    "\n",
    "# Define the codec and create a VideoWriter object\n",
    "fourcc = cv2.VideoWriter_fourcc(*\"mp4v\") \n",
    "out = cv2.VideoWriter(\"output.mp4\", fourcc, 20.0, (frame_width, frame_height))\n",
    "\n",
    "# Define the font and color for the text\n",
    "font = cv2.FONT_HERSHEY_SIMPLEX\n",
    "color = (255, 255, 255)\n",
    "\n",
    "# Read each frame of the video\n",
    "while True:\n",
    "    ret, frame = video.read()\n",
    "    if not ret:\n",
    "        break\n",
    "    \n",
    "    # Add the text to the frame\n",
    "    cv2.putText(frame, \"테스트 해보기\", (10, 50), font, 1, color, 2, cv2.LINE_AA)\n",
    "    \n",
    "    # Write the frame to the output video\n",
    "    out.write(frame)\n",
    "\n",
    "# Release the VideoWriter object and the video\n",
    "out.release()\n",
    "video.release()\n"
   ]
  },
  {
   "cell_type": "code",
   "execution_count": 11,
   "metadata": {},
   "outputs": [],
   "source": [
    "import cv2\n",
    "import numpy as np\n",
    "\n",
    "# Load the video\n",
    "video = cv2.VideoCapture(\"./input_video/test_1m.mp4\")\n",
    "\n",
    "# Get the video's dimensions\n",
    "frame_width = int(video.get(3))\n",
    "frame_height = int(video.get(4))\n",
    "\n",
    "# Define the codec and create a VideoWriter object\n",
    "fourcc = cv2.VideoWriter_fourcc(*\"mp4v\") \n",
    "out = cv2.VideoWriter(\"output.mp4\", fourcc, 20.0, (frame_width, frame_height))\n",
    "\n",
    "# Define the font and color for the text\n",
    "font = cv2.FONT_HERSHEY_SIMPLEX\n",
    "color = (255, 255, 255)\n",
    "\n",
    "# Define the text to be added to the video\n",
    "text = \"테스트 해보기\".encode(\"utf-8\")\n",
    "\n",
    "# Write the text to a file in utf-8 encoding\n",
    "with open(\"output.txt\", \"wb\") as f:\n",
    "    f.write(text)\n",
    "\n",
    "# Load the text from the file\n",
    "with open(\"output.txt\", \"rb\") as f:\n",
    "    text = f.read().decode(\"utf-8\")\n",
    "\n",
    "# Read each frame of the video\n",
    "while True:\n",
    "    ret, frame = video.read()\n",
    "    if not ret:\n",
    "        break\n",
    "    \n",
    "    # Add the text to the frame\n",
    "    cv2.putText(frame, text, (10, 50), font, 1, color, 2, cv2.LINE_AA)\n",
    "    \n",
    "    # Write the frame to the output video\n",
    "    out.write(frame)\n",
    "\n",
    "# Release the VideoWriter object and the video\n",
    "out.release()\n",
    "video.release()\n"
   ]
  },
  {
   "cell_type": "code",
   "execution_count": 20,
   "metadata": {},
   "outputs": [],
   "source": [
    "\n",
    "from PIL import Image, ImageFont, ImageDraw \n",
    "\n",
    "text = \"테스트 해보기\"\n",
    "\n",
    "# Load the font\n",
    "font = ImageFont.truetype(\"./NotoSansKR-Black.otf\", 36)\n",
    "\n",
    "# Get the width and height of the text in pixels\n",
    "textwidth, textheight = ImageDraw.Draw(Image.new('RGBA', (500,500), (255,255,255,0))).textsize(text, font)\n",
    "\n",
    "# Create a blank image with the dimensions of the text\n",
    "img = Image.new('RGBA', (textwidth, textheight), (255,255,255,0))\n",
    "\n",
    "# Create a draw object\n",
    "draw = ImageDraw.Draw(img)\n",
    "\n",
    "# Draw the text on the image\n",
    "draw.text((0,0), text, font=font, fill=(255,255,255,255))\n",
    "\n",
    "# Save the image\n",
    "img.save(\"output.png\")\n"
   ]
  },
  {
   "cell_type": "code",
   "execution_count": 27,
   "metadata": {},
   "outputs": [],
   "source": [
    "### 퀄리티 향상된 자막 합치기!\n",
    "\n",
    "import cv2\n",
    "import numpy as np\n",
    "from PIL import Image, ImageDraw, ImageFont\n",
    "\n",
    "# input video 로딩\n",
    "video = cv2.VideoCapture(\"./input_video/test_1m.mp4\")\n",
    "\n",
    "# video's dimensions\n",
    "frame_width = int(video.get(3))\n",
    "frame_height = int(video.get(4))\n",
    "\n",
    "# codec 정의 및 VideoWriter object 생성\n",
    "fourcc = cv2.VideoWriter_fourcc(*\"mp4v\") \n",
    "out = cv2.VideoWriter(\"output.mp4\", fourcc, 30.0, (frame_width, frame_height))\n",
    "\n",
    "# 텍스트 폰트, 컬러 정의\n",
    "font = ImageFont.truetype(\".//NotoSansKR-Black.otf\", 36)\n",
    "color = (255, 255, 255)\n",
    "\n",
    "# 비디오의 프레임마다 read\n",
    "while True:\n",
    "    ret, frame = video.read()\n",
    "    if not ret:\n",
    "        break\n",
    "    \n",
    "    # 프레임을 PIL 이미지로 변환\n",
    "    frame = cv2.cvtColor(frame, cv2.COLOR_BGR2RGB)\n",
    "    frame = Image.fromarray(frame)\n",
    "    \n",
    "    # 그리기 개체를 만들고 이미지에 텍스트 추가\n",
    "    draw = ImageDraw.Draw(frame)\n",
    "    text = \"테스트 입니다.\"\n",
    "    textwidth, textheight = draw.textsize(text, font)\n",
    "    text_position = (frame_width / 2 - textwidth / 2, frame_height - textheight - 50)\n",
    "    draw.text(text_position, text, font=font, fill=color)   \n",
    "    \n",
    "    # PIL 이미지를 OpenCV 프레임으로 다시 변환\n",
    "    frame = np.array(frame)\n",
    "    frame = cv2.cvtColor(frame, cv2.COLOR_RGB2BGR)\n",
    "    \n",
    "    # output video에 프레임 쓰기\n",
    "    out.write(frame)\n",
    "\n",
    "# release\n",
    "out.release()\n",
    "video.release()\n"
   ]
  },
  {
   "cell_type": "code",
   "execution_count": 43,
   "metadata": {},
   "outputs": [
    {
     "name": "stdout",
     "output_type": "stream",
     "text": [
      "반가워 1\n"
     ]
    }
   ],
   "source": [
    "\n",
    "texts = ['안녕','반가워']\n",
    "for i, data in enumerate(texts) :\n",
    "    text = data\n",
    "    Label = i\n",
    "    \n",
    "\n",
    "print(text, Label)"
   ]
  },
  {
   "cell_type": "code",
   "execution_count": 56,
   "metadata": {},
   "outputs": [],
   "source": [
    "### 자막 이미지 별도 생성하기\n",
    "## 폰트 크기만큼 이미지 리사이즈\n",
    "## 가로폭은 비디오에 맞추는 걸로 개선\n",
    "\n",
    "from PIL import Image, ImageFont, ImageDraw \n",
    "\n",
    "texts = ['처음부터 혼자 가려던 건 아니었다.', '음성사서함으로 연결되며']\n",
    "\n",
    "# Load the font\n",
    "font = ImageFont.truetype(\"./NotoSansKR-Black.otf\", 38)\n",
    "\n",
    "for i, text in enumerate(texts):\n",
    "  # Get the width and height of the text in pixels\n",
    "  textwidth, textheight = ImageDraw.Draw(Image.new('RGBA', (500,500), (255,255,255,0))).textsize(text, font)\n",
    "\n",
    "  # Create a blank image with the width of 1280 and height equal to the height of the text\n",
    "  img = Image.new('RGBA', (1280, textheight), (255,255,255,0))\n",
    "\n",
    "  # Create a draw object\n",
    "  draw = ImageDraw.Draw(img)\n",
    "\n",
    "  # Calculate the x and y coordinates to center the text in the image\n",
    "  x = (1280 - textwidth) / 2\n",
    "  y = (textheight - textheight) / 2\n",
    "\n",
    "  # Draw the text on the image\n",
    "  draw.text((x, y), text, font=font, fill=(255,255,255,255))\n",
    "\n",
    "  # Save the image\n",
    "  img.save(f\"{i}.png\")\n",
    "\n"
   ]
  },
  {
   "cell_type": "code",
   "execution_count": 57,
   "metadata": {},
   "outputs": [],
   "source": [
    "img_list = ['./0.png', './1.png']"
   ]
  },
  {
   "cell_type": "code",
   "execution_count": 112,
   "metadata": {},
   "outputs": [],
   "source": [
    "from PIL import Image, ImageDraw, ImageFont\n",
    "import cv2\n",
    "import numpy as np\n",
    "\n",
    "texts = ['안녕', '잘가']\n",
    "video = cv2.VideoCapture(\"./input_video/test_1m.mp4\")\n",
    "\n",
    "# Get video information\n",
    "frame_width = int(video.get(3))\n",
    "frame_height = int(video.get(4))\n",
    "fps = int(video.get(cv2.CAP_PROP_FPS))\n",
    "\n",
    "# Create output video\n",
    "fourcc = cv2.VideoWriter_fourcc(*'mp4v')\n",
    "output_video = cv2.VideoWriter('./test_out.mp4', fourcc, fps, (frame_width, frame_height))\n",
    "\n",
    "# Create text images for each text in the list\n",
    "text_images = []\n",
    "for text in texts:\n",
    "    image = Image.new(\"RGBA\", (frame_width, frame_height), (255, 255, 255, 0))\n",
    "    draw = ImageDraw.Draw(image)\n",
    "    font = ImageFont.truetype(\"./NotoSansKR-Black.otf\", 36)\n",
    "    text_width, text_height = draw.textsize(text, font)\n",
    "    draw.text(((frame_width-text_width)/2, (frame_height-text_height)/2), text, font=font, fill=(255,255,255,255))\n",
    "    text_images.append(np.array(image))\n",
    "\n",
    "# Timestamps for when to display the text images in the video\n",
    "start_times = [5.26, 10.01]\n",
    "end_times = [8.08, 13.01]\n",
    "\n",
    "# Combine the video and text images based on the timestamps\n",
    "frame_counter = 0\n",
    "while True:\n",
    "    ret, frame = video.read()\n",
    "    if not ret:\n",
    "        break\n",
    "\n",
    "    current_time = frame_counter / fps\n",
    "\n",
    "    text_image_width, text_image_height = text_images[0].shape[1], text_images[0].shape[0]\n",
    "    frame_width, frame_height = text_image_width, text_image_height\n",
    "\n",
    "    for i in range(len(texts)):\n",
    "        if start_times[i] <= current_time <= end_times[i]:\n",
    "            text_image = cv2.resize(text_images[i], (frame_width, frame_height), interpolation = cv2.INTER_AREA)\n",
    "            frame = cv2.resize(frame, (frame_width, frame_height), interpolation = cv2.INTER_AREA)\n",
    "            frame = cv2.addWeighted(frame, 0.5, text_image, 0.5, 0)\n",
    "            output_video.write(frame)\n",
    "            frame_counter += 1\n",
    "\n",
    "\n",
    "video.release()\n",
    "output_video.release()\n"
   ]
  },
  {
   "cell_type": "code",
   "execution_count": 93,
   "metadata": {},
   "outputs": [],
   "source": [
    "import cv2\n",
    "import numpy as np\n",
    "import matplotlib.pyplot as plt\n",
    "\n",
    "texts = ['안녕', 'hello']\n",
    "video = cv2.VideoCapture(\"./input_video/test_1m.mp4\")\n",
    "\n",
    "start_times = [5.26, 10.01]\n",
    "end_times = [8.08, 13.01]\n",
    "\n",
    "fourcc = cv2.VideoWriter_fourcc(*'mp4v')\n",
    "\n",
    "# Get the frames per second (fps) of the input video\n",
    "fps = int(video.get(cv2.CAP_PROP_FPS))\n",
    "\n",
    "# Get the dimensions of the frames in the input video\n",
    "frame_width = int(video.get(3))\n",
    "frame_height = int(video.get(4))\n",
    "\n",
    "# Create the output video\n",
    "out = cv2.VideoWriter('./test_output.mp4', fourcc, fps, (frame_width, frame_height))\n",
    "\n",
    "# Loop through each frame in the input video\n",
    "frame_index = 0\n",
    "while video.isOpened():\n",
    "    ret, frame = video.read()\n",
    "    if not ret:\n",
    "        break\n",
    "\n",
    "    current_time = frame_index / fps\n",
    "\n",
    "    # Loop through each text and check if it should be displayed\n",
    "    for i, text in enumerate(texts):\n",
    "        if start_times[i] <= current_time <= end_times[i]:\n",
    "            # Convert the text to an image\n",
    "            image = np.zeros((frame_height, frame_width, 3), np.uint8)\n",
    "            font = cv2.FONT_HERSHEY_SIMPLEX\n",
    "            text_size = cv2.getTextSize(text, font, 1, 2)[0]\n",
    "            text_x = (frame_width - text_size[0]) // 2\n",
    "            text_y = (frame_height + text_size[1]) // 2\n",
    "            cv2.putText(image, text, (text_x, text_y), font, 1, (255, 255, 255), 2)\n",
    "\n",
    "            # Add the text image to the frame\n",
    "            alpha = 0.5\n",
    "            frame = cv2.addWeighted(image, alpha, frame, 1 - alpha, 0)\n",
    "\n",
    "    # Write the frame to the output video\n",
    "    out.write(frame)\n",
    "\n",
    "    frame_index += 1\n",
    "\n",
    "video.release()\n",
    "out.release()\n",
    "cv2.destroyAllWindows()\n"
   ]
  },
  {
   "cell_type": "code",
   "execution_count": 85,
   "metadata": {},
   "outputs": [
    {
     "ename": "error",
     "evalue": "OpenCV(4.7.0) /Users/runner/work/opencv-python/opencv-python/opencv/modules/core/src/arithm.cpp:650: error: (-209:Sizes of input arguments do not match) The operation is neither 'array op array' (where arrays have the same size and the same number of channels), nor 'array op scalar', nor 'scalar op array' in function 'arithm_op'\n",
     "output_type": "error",
     "traceback": [
      "\u001b[0;31m---------------------------------------------------------------------------\u001b[0m",
      "\u001b[0;31merror\u001b[0m                                     Traceback (most recent call last)",
      "Cell \u001b[0;32mIn [85], line 28\u001b[0m\n\u001b[1;32m     26\u001b[0m             img \u001b[39m=\u001b[39m cv2\u001b[39m.\u001b[39mresize(img, (frame_width, frame_height))\n\u001b[1;32m     27\u001b[0m             overlay \u001b[39m=\u001b[39m img\u001b[39m.\u001b[39mcopy()\n\u001b[0;32m---> 28\u001b[0m             cv2\u001b[39m.\u001b[39maddWeighted(overlay, \u001b[39m0.5\u001b[39m, frame, \u001b[39m0.5\u001b[39m, \u001b[39m0\u001b[39m, frame)\n\u001b[1;32m     30\u001b[0m     out\u001b[39m.\u001b[39mwrite(frame)\n\u001b[1;32m     32\u001b[0m video\u001b[39m.\u001b[39mrelease()\n",
      "\u001b[0;31merror\u001b[0m: OpenCV(4.7.0) /Users/runner/work/opencv-python/opencv-python/opencv/modules/core/src/arithm.cpp:650: error: (-209:Sizes of input arguments do not match) The operation is neither 'array op array' (where arrays have the same size and the same number of channels), nor 'array op scalar', nor 'scalar op array' in function 'arithm_op'\n"
     ]
    }
   ],
   "source": [
    "import cv2\n",
    "\n",
    "img_list = ['./0.png', './1.png']\n",
    "video = cv2.VideoCapture(\"./input_video/test_1m.mp4\")\n",
    "\n",
    "start_times = [5.26, 10.01] \n",
    "end_times = [8.08, 13.01]\n",
    "\n",
    "frame_count = int(video.get(cv2.CAP_PROP_FRAME_COUNT))\n",
    "fps = int(video.get(cv2.CAP_PROP_FPS))\n",
    "frame_width = int(video.get(cv2.CAP_PROP_FRAME_WIDTH))\n",
    "frame_height = int(video.get(cv2.CAP_PROP_FRAME_HEIGHT))\n",
    "\n",
    "fourcc = cv2.VideoWriter_fourcc(*'mp4v') \n",
    "out = cv2.VideoWriter('./output_video/composited_video.mp4', fourcc, fps, (frame_width, frame_height))\n",
    "\n",
    "for i in range(frame_count):\n",
    "    ret, frame = video.read()\n",
    "    if not ret:\n",
    "        break\n",
    "\n",
    "    curr_time = i / fps\n",
    "    for j, (start, end) in enumerate(zip(start_times, end_times)):\n",
    "        if start <= curr_time < end:\n",
    "            img = cv2.imread(img_list[j], cv2.IMREAD_UNCHANGED)\n",
    "            img = cv2.resize(img, (frame_width, frame_height))\n",
    "            overlay = img.copy()\n",
    "            cv2.addWeighted(overlay, 0.5, frame, 0.5, 0, frame)\n",
    "\n",
    "    out.write(frame)\n",
    "\n",
    "video.release()\n",
    "out.release()\n"
   ]
  },
  {
   "cell_type": "code",
   "execution_count": 78,
   "metadata": {},
   "outputs": [],
   "source": [
    "### 타임스탬프에 따른 영상과 자막 이미지 합성\n",
    "start_times = [5.26, 10.01]\n",
    "end_times = [8.08, 13.01]\n",
    "\n",
    "output_file = \"./output.mp4\"\n",
    "\n",
    "# Load the input video\n",
    "video = cv2.VideoCapture(\"./input_video/test_1m.mp4\")\n",
    "# Get video dimensions\n",
    "video_width = int(video.get(3))\n",
    "video_height = int(video.get(4))\n",
    "\n",
    "fourcc = cv2.VideoWriter_fourcc(*'mp4v')\n",
    "out = cv2.VideoWriter(output_file, fourcc, 30.0, (video_width, video_height))\n",
    "\n",
    "frame_counter = 0\n",
    "i = 0\n",
    "while True:\n",
    "    ret, frame = video.read()\n",
    "    if not ret:\n",
    "        break\n",
    "    \n",
    "    if i < len(start_times) and frame_counter / 30.0 >= start_times[i]:\n",
    "        subtitle_image = subtitle_images[i]\n",
    "        subtitle_height, subtitle_width, _ = subtitle_image.shape\n",
    "        text_position = (video_width / 2 - subtitle_width / 2, video_height - subtitle_height - 50)\n",
    "        x_offset = (video_width / 2 - subtitle_width / 2)\n",
    "        y_offset = (video_height - subtitle_height - 50)\n",
    "        roi = frame[y_offset:y_offset+subtitle_height, x_offset:x_offset+subtitle_width]\n",
    "        #img2gray = cv2.cvtColor(subtitle_image, cv2.COLOR_BGR2RGB)\n",
    "        #img2gray = cv2.cvtColor(img2gray, cv2.COLOR_RGB2GRAY)\n",
    "        #ret, mask = cv2.threshold(img2gray, 10, 255, cv2.THRESH_BINARY)\n",
    "        #mask_inv = cv2.bitwise_not(mask)\n",
    "        #img1_bg = cv2.bitwise_and(roi, roi, mask=mask_inv)\n",
    "        #img2_fg = cv2.bitwise_and(subtitle_image, subtitle_image, mask=mask)\n",
    "        #dst = cv2.add(img1_bg, img2_fg)\n",
    "        frame[y_offset:y_offset+subtitle_height, x_offset:x_offset+subtitle_width] = dst\n",
    "    \n",
    "    out.write(frame)\n",
    "    frame_counter += 1\n",
    "    \n",
    "    if i < len(end_times) and frame_counter / 30.0 >= end_times[i]:\n",
    "        i += 1\n",
    "\n",
    "out.release()\n"
   ]
  },
  {
   "cell_type": "code",
   "execution_count": 69,
   "metadata": {},
   "outputs": [],
   "source": [
    "import cv2\n",
    "import numpy as np\n",
    "from PIL import Image, ImageDraw, ImageFont\n",
    "\n",
    "# Load the input video\n",
    "video = cv2.VideoCapture(\"./input_video/test_1m.mp4\")\n",
    "\n",
    "# Get video dimensions\n",
    "frame_width = int(video.get(3))\n",
    "frame_height = int(video.get(4))\n",
    "\n",
    "# Define codec and create VideoWriter object\n",
    "fourcc = cv2.VideoWriter_fourcc(*\"mp4v\") \n",
    "out = cv2.VideoWriter(\"output.mp4\", fourcc, 30.0, (frame_width, frame_height))\n",
    "\n",
    "\n",
    "# Read each frame of the video\n",
    "start_times = [5.26, 10.01]\n",
    "end_times = [8.08, 13.01]\n",
    "\n",
    "\n",
    "frame_counter = 0\n",
    "i = 0\n",
    "\n",
    "# 비디오의 프레임마다 read\n",
    "while True:\n",
    "    ret, frame = video.read()\n",
    "    if not ret:\n",
    "        break\n",
    "    \n",
    "    # 프레임을 PIL 이미지로 변환\n",
    "    frame = cv2.cvtColor(frame, cv2.COLOR_BGR2RGB)\n",
    "    frame = Image.fromarray(frame)\n",
    "    \n",
    "    # 그리기 개체를 만들고 이미지에 텍스트 추가\n",
    "    draw = ImageDraw.Draw(frame)\n",
    "    text_position = (frame_width / 2 - subtitle_width / 2, frame_height - subtitle_height - 50)\n",
    "\n",
    "    \n",
    "    # PIL 이미지를 OpenCV 프레임으로 다시 변환\n",
    "    frame = np.array(frame)\n",
    "    frame = cv2.cvtColor(frame, cv2.COLOR_RGB2BGR)\n",
    "    \n",
    "    # output video에 프레임 쓰기\n",
    "    out.write(frame)\n",
    "\n",
    "# release\n",
    "out.release()\n",
    "video.release()\n"
   ]
  },
  {
   "cell_type": "code",
   "execution_count": 81,
   "metadata": {},
   "outputs": [],
   "source": [
    "### 퀄리티 향상된 자막 합치기!\n",
    "\n",
    "import cv2\n",
    "import numpy as np\n",
    "from PIL import Image, ImageDraw, ImageFont\n",
    "\n",
    "# input video 로딩\n",
    "video = cv2.VideoCapture(\"./input_video/test_1m.mp4\")\n",
    "\n",
    "# video's dimensions\n",
    "frame_width = int(video.get(3))\n",
    "frame_height = int(video.get(4))\n",
    "\n",
    "# codec 정의 및 VideoWriter object 생성\n",
    "fourcc = cv2.VideoWriter_fourcc(*\"mp4v\") \n",
    "out = cv2.VideoWriter(\"output.mp4\", fourcc, 30.0, (frame_width, frame_height))\n",
    "\n",
    "# 텍스트 폰트, 컬러 정의\n",
    "font = ImageFont.truetype(\".//NotoSansKR-Black.otf\", 36)\n",
    "color = (255, 255, 255)\n",
    "\n",
    "# 비디오의 프레임마다 read\n",
    "while True:\n",
    "    ret, frame = video.read()\n",
    "    if not ret:\n",
    "        break\n",
    "    \n",
    "    # 프레임을 PIL 이미지로 변환\n",
    "    frame = cv2.cvtColor(frame, cv2.COLOR_BGR2RGB)\n",
    "    frame = Image.fromarray(frame)\n",
    "    \n",
    "    # 그리기 개체를 만들고 이미지에 텍스트 추가\n",
    "    draw = ImageDraw.Draw(frame)\n",
    "    texts = ['안녕', '반가워']\n",
    "    for text in texts :\n",
    "        textwidth, textheight = draw.textsize(text, font)\n",
    "        # Create a blank image with the width of 1280 and height equal to the height of the text\n",
    "        img = Image.new('RGBA', (1280, textheight), (255,255,255,0))\n",
    "        # Create a draw object\n",
    "        draw = ImageDraw.Draw(img)\n",
    "\n",
    "        # Calculate the x and y coordinates to center the text in the image\n",
    "        x = (1280 - textwidth) / 2\n",
    "        y = (textheight - textheight) / 2\n",
    "\n",
    "        # Draw the text on the image\n",
    "        draw.text((x, y), text, font=font, fill=(255,255,255,255))\n",
    "\n",
    "        text_position = (frame_width / 2 - textwidth / 2, frame_height - textheight - 50)\n",
    "        draw.text(text_position, text, font=font, fill=(255,255,255,255)) \n",
    "        \n",
    "        # PIL 이미지를 OpenCV 프레임으로 다시 변환\n",
    "        frame = np.array(frame)\n",
    "        frame = cv2.cvtColor(frame, cv2.COLOR_RGB2BGR)\n",
    "    \n",
    "        # output video에 프레임 쓰기\n",
    "        out.write(frame)\n",
    "\n",
    "# release\n",
    "out.release()\n",
    "video.release()\n"
   ]
>>>>>>> 9cb9c096f25d667171dbb195cb56b90375b0ce25
  }
 ],
 "metadata": {
  "kernelspec": {
   "display_name": "Python 3",
   "language": "python",
   "name": "python3"
  },
  "language_info": {
   "codemirror_mode": {
    "name": "ipython",
    "version": 3
   },
   "file_extension": ".py",
   "mimetype": "text/x-python",
   "name": "python",
   "nbconvert_exporter": "python",
   "pygments_lexer": "ipython3",
   "version": "3.10.9"
  },
  "orig_nbformat": 4,
  "vscode": {
   "interpreter": {
    "hash": "aee8b7b246df8f9039afb4144a1f6fd8d2ca17a180786b69acc140d282b71a49"
   }
  }
 },
 "nbformat": 4,
 "nbformat_minor": 2
}
