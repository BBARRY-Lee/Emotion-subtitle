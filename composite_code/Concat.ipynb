{
 "cells": [
  {
   "attachments": {},
   "cell_type": "markdown",
   "metadata": {},
   "source": [
    "# 1. TimeStamp, Caption, Label 불러오기"
   ]
  },
  {
   "cell_type": "code",
   "execution_count": 264,
   "metadata": {},
   "outputs": [
    {
     "name": "stdout",
     "output_type": "stream",
     "text": [
      "21 21\n"
     ]
    }
   ],
   "source": [
    "import numpy as np\n",
    "import pandas as pd\n",
    "\n",
    "textdata = pd.read_csv(\"./input_text/script.csv\")\n",
    "\n",
    "### 텍스트, 라벨 -----------------------------\n",
    "Labels, Texts= [], []\n",
    "for T, L in zip(textdata[\"Text\"], textdata[\"Label\"]) :\n",
    "    Texts.append(T)\n",
    "    Labels.append(L)\n",
    "\n",
    "\n",
    "### 타임스탬프 -----------------------------\n",
    "textdataList = textdata.values.tolist()\n",
    "\n",
    "start_times, end_times = [], []\n",
    "for times in textdataList :\n",
    "    start_times.append(times[0])\n",
    "    end_times.append(times[1])\n",
    "\n",
    "### 타임스탬프 -> 초 단위로 변환 --------------\n",
    "def convert_to_seconds(time):\n",
    "    h, m, s, ms = map(int, time.split(':'))\n",
    "    return 3600 * h + 60 * m + s + ms / 100.0\n",
    "\n",
    "start_times = [convert_to_seconds(time) for time in start_times]\n",
    "end_times = [convert_to_seconds(time) for time in end_times]\n",
    "\n",
    "print(len(start_times), len(end_times))\n"
   ]
  },
  {
   "cell_type": "code",
   "execution_count": 244,
   "metadata": {},
   "outputs": [
    {
     "name": "stdout",
     "output_type": "stream",
     "text": [
      "['아, 같이 타자아아아~~  어?', '엄마 아빠도 안 탄다는데... 혼자 타면 재미없단 말이야.....', '아, 됐어. 토 쏠리는 걸 내가 왜 타.'] ['happiness', 'sadness', 'neutral']\n"
     ]
    }
   ],
   "source": [
    "print(Texts[:3], Labels[:3])"
   ]
  },
  {
   "cell_type": "code",
   "execution_count": 219,
   "metadata": {},
   "outputs": [
    {
     "data": {
      "text/html": [
       "<div>\n",
       "<style scoped>\n",
       "    .dataframe tbody tr th:only-of-type {\n",
       "        vertical-align: middle;\n",
       "    }\n",
       "\n",
       "    .dataframe tbody tr th {\n",
       "        vertical-align: top;\n",
       "    }\n",
       "\n",
       "    .dataframe thead th {\n",
       "        text-align: right;\n",
       "    }\n",
       "</style>\n",
       "<table border=\"1\" class=\"dataframe\">\n",
       "  <thead>\n",
       "    <tr style=\"text-align: right;\">\n",
       "      <th></th>\n",
       "      <th>Start Time</th>\n",
       "      <th>End Time</th>\n",
       "      <th>Text</th>\n",
       "      <th>Label</th>\n",
       "    </tr>\n",
       "  </thead>\n",
       "  <tbody>\n",
       "    <tr>\n",
       "      <th>0</th>\n",
       "      <td>00:00:00:12</td>\n",
       "      <td>00:00:02:12</td>\n",
       "      <td>아, 같이 타자아아아~~  어?</td>\n",
       "      <td>happiness</td>\n",
       "    </tr>\n",
       "    <tr>\n",
       "      <th>1</th>\n",
       "      <td>00:00:02:12</td>\n",
       "      <td>00:00:04:13</td>\n",
       "      <td>엄마 아빠도 안 탄다는데... 혼자 타면 재미없단 말이야.....</td>\n",
       "      <td>sadness</td>\n",
       "    </tr>\n",
       "    <tr>\n",
       "      <th>2</th>\n",
       "      <td>00:00:05:00</td>\n",
       "      <td>00:00:07:00</td>\n",
       "      <td>아, 됐어. 토 쏠리는 걸 내가 왜 타.</td>\n",
       "      <td>neutral</td>\n",
       "    </tr>\n",
       "    <tr>\n",
       "      <th>3</th>\n",
       "      <td>00:00:07:00</td>\n",
       "      <td>00:00:09:01</td>\n",
       "      <td>같이 타주면 내가 평생 충성할게~ 응~~?</td>\n",
       "      <td>happiness</td>\n",
       "    </tr>\n",
       "    <tr>\n",
       "      <th>4</th>\n",
       "      <td>00:00:09:01</td>\n",
       "      <td>00:00:10:02</td>\n",
       "      <td>응응~~??</td>\n",
       "      <td>happiness</td>\n",
       "    </tr>\n",
       "    <tr>\n",
       "      <th>5</th>\n",
       "      <td>00:00:10:02</td>\n",
       "      <td>00:00:11:16</td>\n",
       "      <td>아 오빠아아아~~!</td>\n",
       "      <td>happiness</td>\n",
       "    </tr>\n",
       "    <tr>\n",
       "      <th>6</th>\n",
       "      <td>00:00:11:16</td>\n",
       "      <td>00:00:13:01</td>\n",
       "      <td>참, 알았어.</td>\n",
       "      <td>neutral</td>\n",
       "    </tr>\n",
       "    <tr>\n",
       "      <th>7</th>\n",
       "      <td>00:00:13:24</td>\n",
       "      <td>00:00:15:01</td>\n",
       "      <td>헤헤, 역시 우리 오빠 짱~!</td>\n",
       "      <td>happiness</td>\n",
       "    </tr>\n",
       "    <tr>\n",
       "      <th>8</th>\n",
       "      <td>00:00:15:01</td>\n",
       "      <td>00:00:16:08</td>\n",
       "      <td>앞으로 평생 충성하겠습니다~~!</td>\n",
       "      <td>happiness</td>\n",
       "    </tr>\n",
       "    <tr>\n",
       "      <th>9</th>\n",
       "      <td>00:00:16:08</td>\n",
       "      <td>00:00:17:26</td>\n",
       "      <td>충성~~!</td>\n",
       "      <td>happiness</td>\n",
       "    </tr>\n",
       "    <tr>\n",
       "      <th>10</th>\n",
       "      <td>00:00:17:26</td>\n",
       "      <td>00:00:18:15</td>\n",
       "      <td>참, 충성은.</td>\n",
       "      <td>neutral</td>\n",
       "    </tr>\n",
       "    <tr>\n",
       "      <th>11</th>\n",
       "      <td>00:00:18:16</td>\n",
       "      <td>00:00:19:15</td>\n",
       "      <td>앞으로 잘 해라.</td>\n",
       "      <td>neutral</td>\n",
       "    </tr>\n",
       "    <tr>\n",
       "      <th>12</th>\n",
       "      <td>00:00:21:07</td>\n",
       "      <td>00:00:23:00</td>\n",
       "      <td>뭐야!???</td>\n",
       "      <td>surprise</td>\n",
       "    </tr>\n",
       "    <tr>\n",
       "      <th>13</th>\n",
       "      <td>00:00:23:09</td>\n",
       "      <td>00:00:25:00</td>\n",
       "      <td>고무줄 끊어졌어!?!?</td>\n",
       "      <td>surprise</td>\n",
       "    </tr>\n",
       "    <tr>\n",
       "      <th>14</th>\n",
       "      <td>00:00:25:19</td>\n",
       "      <td>00:00:28:00</td>\n",
       "      <td>이씨, stupid? 아, 머리 풀면 바이킹 탈 때</td>\n",
       "      <td>angry</td>\n",
       "    </tr>\n",
       "    <tr>\n",
       "      <th>15</th>\n",
       "      <td>00:00:28:00</td>\n",
       "      <td>00:00:29:06</td>\n",
       "      <td>머리카락 다 휘날리잖아!!!!!</td>\n",
       "      <td>angry</td>\n",
       "    </tr>\n",
       "    <tr>\n",
       "      <th>16</th>\n",
       "      <td>00:00:29:06</td>\n",
       "      <td>00:00:29:24</td>\n",
       "      <td>아! 이거 어쩔거야!!!!!</td>\n",
       "      <td>angry</td>\n",
       "    </tr>\n",
       "    <tr>\n",
       "      <th>17</th>\n",
       "      <td>00:00:30:27</td>\n",
       "      <td>00:00:33:25</td>\n",
       "      <td>10초 전에 평생 충성한다며?</td>\n",
       "      <td>neutral</td>\n",
       "    </tr>\n",
       "    <tr>\n",
       "      <th>18</th>\n",
       "      <td>00:00:34:00</td>\n",
       "      <td>00:00:38:00</td>\n",
       "      <td>우와 재밌다!!!! 오빠 평생 충성할게!!!! 와아악!!!!</td>\n",
       "      <td>happiness</td>\n",
       "    </tr>\n",
       "    <tr>\n",
       "      <th>19</th>\n",
       "      <td>00:00:40:00</td>\n",
       "      <td>00:00:42:00</td>\n",
       "      <td>아, 너 때문에 머리 다 휘날리잖아!!!!!!</td>\n",
       "      <td>angry</td>\n",
       "    </tr>\n",
       "    <tr>\n",
       "      <th>20</th>\n",
       "      <td>00:00:43:00</td>\n",
       "      <td>00:00:46:00</td>\n",
       "      <td>우와아~! 충성~~!!</td>\n",
       "      <td>happiness</td>\n",
       "    </tr>\n",
       "    <tr>\n",
       "      <th>21</th>\n",
       "      <td>00:00:47:00</td>\n",
       "      <td>00:00:49:08</td>\n",
       "      <td>아씨!!! 내 머리 진짜!!! 죽을래!?!?</td>\n",
       "      <td>angry</td>\n",
       "    </tr>\n",
       "  </tbody>\n",
       "</table>\n",
       "</div>"
      ],
      "text/plain": [
       "     Start Time     End Time                                  Text      Label\n",
       "0   00:00:00:12  00:00:02:12                     아, 같이 타자아아아~~  어?  happiness\n",
       "1   00:00:02:12  00:00:04:13  엄마 아빠도 안 탄다는데... 혼자 타면 재미없단 말이야.....    sadness\n",
       "2   00:00:05:00  00:00:07:00                아, 됐어. 토 쏠리는 걸 내가 왜 타.    neutral\n",
       "3   00:00:07:00  00:00:09:01               같이 타주면 내가 평생 충성할게~ 응~~?  happiness\n",
       "4   00:00:09:01  00:00:10:02                                응응~~??  happiness\n",
       "5   00:00:10:02  00:00:11:16                            아 오빠아아아~~!  happiness\n",
       "6   00:00:11:16  00:00:13:01                               참, 알았어.    neutral\n",
       "7   00:00:13:24  00:00:15:01                      헤헤, 역시 우리 오빠 짱~!  happiness\n",
       "8   00:00:15:01  00:00:16:08                     앞으로 평생 충성하겠습니다~~!  happiness\n",
       "9   00:00:16:08  00:00:17:26                                 충성~~!  happiness\n",
       "10  00:00:17:26  00:00:18:15                               참, 충성은.    neutral\n",
       "11  00:00:18:16  00:00:19:15                             앞으로 잘 해라.    neutral\n",
       "12  00:00:21:07  00:00:23:00                                뭐야!???   surprise\n",
       "13  00:00:23:09  00:00:25:00                          고무줄 끊어졌어!?!?   surprise\n",
       "14  00:00:25:19  00:00:28:00          이씨, stupid? 아, 머리 풀면 바이킹 탈 때      angry\n",
       "15  00:00:28:00  00:00:29:06                     머리카락 다 휘날리잖아!!!!!      angry\n",
       "16  00:00:29:06  00:00:29:24                       아! 이거 어쩔거야!!!!!      angry\n",
       "17  00:00:30:27  00:00:33:25                      10초 전에 평생 충성한다며?    neutral\n",
       "18  00:00:34:00  00:00:38:00     우와 재밌다!!!! 오빠 평생 충성할게!!!! 와아악!!!!  happiness\n",
       "19  00:00:40:00  00:00:42:00             아, 너 때문에 머리 다 휘날리잖아!!!!!!      angry\n",
       "20  00:00:43:00  00:00:46:00                          우와아~! 충성~~!!  happiness\n",
       "21  00:00:47:00  00:00:49:08              아씨!!! 내 머리 진짜!!! 죽을래!?!?      angry"
      ]
     },
     "execution_count": 219,
     "metadata": {},
     "output_type": "execute_result"
    }
   ],
   "source": [
    "### read csv --------------\n",
    "import numpy as np\n",
    "import pandas as pd\n",
    "\n",
    "textdata = pd.read_csv(\"./input_text/test2.csv\")\n",
    "textdata"
   ]
  },
  {
   "cell_type": "code",
   "execution_count": 187,
   "metadata": {},
   "outputs": [
    {
     "data": {
      "text/plain": [
       "{'angry', 'happiness', 'neutral', 'sadness', 'surprise'}"
      ]
     },
     "execution_count": 187,
     "metadata": {},
     "output_type": "execute_result"
    }
   ],
   "source": [
    "set(textdata[\"Label\"])\n",
    "# 우선 4개의 자막스타일 생성"
   ]
  },
  {
   "cell_type": "code",
   "execution_count": 197,
   "metadata": {},
   "outputs": [
    {
     "name": "stdout",
     "output_type": "stream",
     "text": [
      "22\n"
     ]
    }
   ],
   "source": [
    "### 자막 --------------\n",
    "texts= []\n",
    "for i in textdata[\"Text\"] : texts.append(i)\n",
    "print(len(texts))"
   ]
  },
  {
   "cell_type": "code",
   "execution_count": 198,
   "metadata": {},
   "outputs": [
    {
     "name": "stdout",
     "output_type": "stream",
     "text": [
      "['happiness', 'sadness', 'neutral']\n"
     ]
    }
   ],
   "source": [
    "Labels =[]\n",
    "for i in textdata[\"Label\"] : Labels.append(i)\n",
    "print(Labels[:3])"
   ]
  },
  {
   "cell_type": "code",
   "execution_count": 189,
   "metadata": {},
   "outputs": [
    {
     "name": "stdout",
     "output_type": "stream",
     "text": [
      "[['00:00:00:12', '00:00:02:12', '아, 같이 타자아아아~~  어?', 'happiness'], ['00:00:02:12', '00:00:04:13', '엄마 아빠도 안 탄다는데  혼자 타면 재미없단 말이야..', 'sadness'], ['00:00:05:00', '00:00:07:00', '아, 됐어. 토 쏠리는 걸 내가 왜 타.', 'neutral']]\n",
      "21 21\n"
     ]
    }
   ],
   "source": [
    "### 타임스탬프 --------------\n",
    "textdataList = textdata.values.tolist()\n",
    "\n",
    "print(textdataList[0:3])\n",
    "start_times, end_times = [], []\n",
    "for times in textdataList :\n",
    "    start_times.append(times[0])\n",
    "    end_times.append(times[1])\n",
    "\n",
    "print(len(start_times), len(end_times))"
   ]
  },
  {
   "cell_type": "code",
   "execution_count": 190,
   "metadata": {},
   "outputs": [
    {
     "name": "stdout",
     "output_type": "stream",
     "text": [
      "21\n",
      "21\n"
     ]
    }
   ],
   "source": [
    "### 타임스탬프 -> 초 단위로 변환 --------------\n",
    "def convert_to_seconds(time):\n",
    "    h, m, s, ms = map(int, time.split(':'))\n",
    "    return 3600 * h + 60 * m + s + ms / 100.0\n",
    "\n",
    "start_times = [convert_to_seconds(time) for time in start_times]\n",
    "end_times = [convert_to_seconds(time) for time in end_times]\n",
    "\n",
    "print(len(start_times))\n",
    "print(len(end_times))"
   ]
  },
  {
   "attachments": {},
   "cell_type": "markdown",
   "metadata": {},
   "source": [
    "# 동영상과 자막 합성"
   ]
  },
  {
   "cell_type": "code",
   "execution_count": 265,
   "metadata": {},
   "outputs": [],
   "source": [
    "### 정해진 TimeStamp에 따라 자막을 합성하는 함수 ----------------\n",
    "\n",
    "import cv2\n",
    "import numpy as np\n",
    "from PIL import Image, ImageDraw, ImageFont\n",
    "\n",
    "def add_subtitles_within_time_range(text, Label, input_video_path, start_time, end_time):\n",
    "    # 비디오 로드\n",
    "    video = cv2.VideoCapture(input_video_path)\n",
    "\n",
    "    # Get the dimensions of the video\n",
    "    frame_width = int(video.get(3))\n",
    "    frame_height = int(video.get(4))\n",
    "\n",
    "    # Define the codec and create a VideoWriter object\n",
    "    fourcc = cv2.VideoWriter_fourcc(*\"mp4v\") \n",
    "    out = cv2.VideoWriter(\"./output_video/output.mp4\", fourcc, 30.0, (frame_width, frame_height))\n",
    "\n",
    "    # Define the text font and color\n",
    "    if Label == 'neutral':\n",
    "        font = ImageFont.truetype(\"./fonts/Cafe24Classictype.ttf\", 42)\n",
    "        color = (255, 255, 255)\n",
    "    elif Label == 'happiness':\n",
    "        font = ImageFont.truetype(\"./fonts/HSSantokki-Regular.ttf\", 70)\n",
    "        color = (255, 255, 255)\n",
    "    elif Label == 'angry':\n",
    "        font = ImageFont.truetype(\"./fonts/BMEuljiro10yearslater.ttf\", 70)\n",
    "        color = (128, 0, 16)\n",
    "    elif Label == 'sadness':\n",
    "        font = ImageFont.truetype(\"./fonts/SF함박눈TTF.ttf\", 52)\n",
    "        color = (255, 255, 255)\n",
    "    elif Label == 'surprise':\n",
    "        font = ImageFont.truetype(\"./fonts/개봉박두체.ttf\", 68)\n",
    "        color = (254, 226, 52)    \n",
    "\n",
    "    # Read and process each frame of the video\n",
    "    start_frame = int(start_time * 30)\n",
    "    end_frame = int(end_time * 30)\n",
    "    current_frame = 0\n",
    "    while True:\n",
    "        ret, frame = video.read()\n",
    "        if not ret:\n",
    "            break\n",
    "        if current_frame >= start_frame and current_frame <= end_frame:\n",
    "            # Convert the frame to a PIL image\n",
    "            frame = cv2.cvtColor(frame, cv2.COLOR_BGR2RGB)\n",
    "            frame = Image.fromarray(frame)\n",
    "            \n",
    "            # Create a draw object and add text to the image\n",
    "            draw = ImageDraw.Draw(frame)\n",
    "            text = text\n",
    "            textwidth, textheight = font.getsize(text)\n",
    "            text_position = (frame_width / 2 - textwidth / 2, frame_height - textheight - 50)\n",
    "            draw.text(text_position, text, font=font, fill=color)   \n",
    "            \n",
    "            # Convert the PIL image back to a OpenCV frame\n",
    "            frame = np.array(frame)\n",
    "            frame = cv2.cvtColor(frame, cv2.COLOR_RGB2BGR)\n",
    "            \n",
    "        # Write the frame to the output video\n",
    "        out.write(frame)\n",
    "        current_frame += 1\n",
    "\n",
    "    # Release the video and VideoWriter objects\n",
    "    out.release()\n",
    "    video.release()\n"
   ]
  },
  {
   "cell_type": "code",
   "execution_count": 266,
   "metadata": {},
   "outputs": [
    {
     "name": "stderr",
     "output_type": "stream",
     "text": [
      "21개의 자막과 동영상을 합성 중 입니다.: 100%|██████████| 21/21 [04:29<00:00, 12.84s/it]\n"
     ]
    }
   ],
   "source": [
    "import shutil # copy 생성 라이브러리\n",
    "from tqdm import tqdm\n",
    "import time\n",
    "# ./input_video/test2.mp4\n",
    "\n",
    "input_video_path = \"./input_video/test2.mp4\"\n",
    "cnt = 0\n",
    "\n",
    "for i in tqdm(range(len(Texts)), desc=f'{len(Texts)}개의 자막과 동영상을 합성 중 입니다.'):\n",
    "    cnt += 1\n",
    "    text = Texts[i]\n",
    "    start_time = start_times[i]\n",
    "    end_time = end_times[i]\n",
    "    Label = Labels[i]\n",
    "    if cnt == 1 :\n",
    "        add_subtitles_within_time_range(text, Label, input_video_path, start_time, end_time)\n",
    "        input_file = \"./output_video/output.mp4\"\n",
    "        output_file = \"./output_video/final.mp4\"\n",
    "        shutil.copy(input_file, output_file)\n",
    "\n",
    "    else :\n",
    "        input_video_path = \"./output_video/final.mp4\"\n",
    "        add_subtitles_within_time_range(text, Label, input_video_path, start_time, end_time)\n",
    "        input_file = \"./output_video/output.mp4\"\n",
    "        output_file = \"./output_video/final.mp4\"\n",
    "        shutil.copy(input_file, output_file)\n"
   ]
  },
  {
   "attachments": {},
   "cell_type": "markdown",
   "metadata": {},
   "source": [
    "# 동영상과 오디오 재합성"
   ]
  },
  {
   "cell_type": "code",
   "execution_count": 1,
   "metadata": {},
   "outputs": [
    {
     "name": "stdout",
     "output_type": "stream",
     "text": [
      "MoviePy - Writing audio in ./input_video/audio.mp3\n"
     ]
    },
    {
     "name": "stderr",
     "output_type": "stream",
     "text": [
      "                                                                      "
     ]
    },
    {
     "name": "stdout",
     "output_type": "stream",
     "text": [
      "MoviePy - Done.\n"
     ]
    },
    {
     "name": "stderr",
     "output_type": "stream",
     "text": [
      "\r"
     ]
    }
   ],
   "source": [
    "# 원본 테스트 영상에서 오디오 추출\n",
    "import moviepy.editor as mp\n",
    "\n",
    "clip = mp.VideoFileClip(\"./input_video/test2.mp4\")\n",
    "clip.audio.write_audiofile(\"./input_video/audio.mp3\")"
   ]
  },
  {
   "cell_type": "code",
   "execution_count": 3,
   "metadata": {},
   "outputs": [
    {
     "name": "stderr",
     "output_type": "stream",
     "text": [
      "ffmpeg version 5.1.2 Copyright (c) 2000-2022 the FFmpeg developers\n",
      "  built with Apple clang version 14.0.0 (clang-1400.0.29.202)\n",
      "  configuration: --prefix=/usr/local/Cellar/ffmpeg/5.1.2_4 --enable-shared --enable-pthreads --enable-version3 --cc=clang --host-cflags= --host-ldflags= --enable-ffplay --enable-gnutls --enable-gpl --enable-libaom --enable-libaribb24 --enable-libbluray --enable-libdav1d --enable-libmp3lame --enable-libopus --enable-librav1e --enable-librist --enable-librubberband --enable-libsnappy --enable-libsrt --enable-libsvtav1 --enable-libtesseract --enable-libtheora --enable-libvidstab --enable-libvmaf --enable-libvorbis --enable-libvpx --enable-libwebp --enable-libx264 --enable-libx265 --enable-libxml2 --enable-libxvid --enable-lzma --enable-libfontconfig --enable-libfreetype --enable-frei0r --enable-libass --enable-libopencore-amrnb --enable-libopencore-amrwb --enable-libopenjpeg --enable-libspeex --enable-libsoxr --enable-libzmq --enable-libzimg --disable-libjack --disable-indev=jack --enable-videotoolbox\n",
      "  libavutil      57. 28.100 / 57. 28.100\n",
      "  libavcodec     59. 37.100 / 59. 37.100\n",
      "  libavformat    59. 27.100 / 59. 27.100\n",
      "  libavdevice    59.  7.100 / 59.  7.100\n",
      "  libavfilter     8. 44.100 /  8. 44.100\n",
      "  libswscale      6.  7.100 /  6.  7.100\n",
      "  libswresample   4.  7.100 /  4.  7.100\n",
      "  libpostproc    56.  6.100 / 56.  6.100\n",
      "Input #0, mov,mp4,m4a,3gp,3g2,mj2, from './output_video/final.mp4':\n",
      "  Metadata:\n",
      "    major_brand     : isom\n",
      "    minor_version   : 512\n",
      "    compatible_brands: isomiso2mp41\n",
      "    encoder         : Lavf59.27.100\n",
      "  Duration: 00:00:49.90, start: 0.000000, bitrate: 3041 kb/s\n",
      "  Stream #0:0[0x1](und): Video: mpeg4 (Simple Profile) (mp4v / 0x7634706D), yuv420p, 1280x720 [SAR 1:1 DAR 16:9], 3040 kb/s, 30 fps, 30 tbr, 15360 tbn (default)\n",
      "    Metadata:\n",
      "      handler_name    : VideoHandler\n",
      "      vendor_id       : [0][0][0][0]\n",
      "Input #1, mp3, from './input_video/audio.mp3':\n",
      "  Metadata:\n",
      "    encoder         : Lavf58.29.100\n",
      "  Duration: 00:00:50.00, start: 0.025057, bitrate: 128 kb/s\n",
      "  Stream #1:0: Audio: mp3, 44100 Hz, stereo, fltp, 128 kb/s\n",
      "    Metadata:\n",
      "      encoder         : Lavc58.54\n",
      "Stream mapping:\n",
      "  Stream #0:0 -> #0:0 (copy)\n",
      "  Stream #1:0 -> #0:1 (mp3 (mp3float) -> aac (native))\n",
      "Press [q] to stop, [?] for help\n",
      "Output #0, mp4, to './output_video/final_output.mp4':\n",
      "  Metadata:\n",
      "    major_brand     : isom\n",
      "    minor_version   : 512\n",
      "    compatible_brands: isomiso2mp41\n",
      "    encoder         : Lavf59.27.100\n",
      "  Stream #0:0(und): Video: mpeg4 (Simple Profile) (mp4v / 0x7634706D), yuv420p, 1280x720 [SAR 1:1 DAR 16:9], q=2-31, 3040 kb/s, 30 fps, 30 tbr, 15360 tbn (default)\n",
      "    Metadata:\n",
      "      handler_name    : VideoHandler\n",
      "      vendor_id       : [0][0][0][0]\n",
      "  Stream #0:1: Audio: aac (LC) (mp4a / 0x6134706D), 44100 Hz, stereo, fltp, 128 kb/s\n",
      "    Metadata:\n",
      "      encoder         : Lavc59.37.100 aac\n",
      "frame= 1497 fps=856 q=-1.0 Lsize=   19345kB time=00:00:49.96 bitrate=3171.4kbits/s speed=28.6x    \n",
      "video:18520kB audio:781kB subtitle:0kB other streams:0kB global headers:0kB muxing overhead: 0.223602%\n",
      "[aac @ 0x7f7d88b12340] Qavg: 687.513\n"
     ]
    },
    {
     "data": {
      "text/plain": [
       "0"
      ]
     },
     "execution_count": 3,
     "metadata": {},
     "output_type": "execute_result"
    }
   ],
   "source": [
    "# 합성영상과 오디오 재합성\n",
    "import subprocess\n",
    "import os\n",
    "\n",
    "video_file = \"./output_video/final.mp4\"\n",
    "audio_file = \"./input_video/audio.mp3\"\n",
    "output_file = \"./output_video/final_output.mp4\"\n",
    "\n",
    "command = (f\"ffmpeg -i {video_file} -i {audio_file} -c:v copy -c:a aac -strict experimental {output_file}\")\n",
    "subprocess.call(command, shell=True)\n"
   ]
  }
 ],
 "metadata": {
  "kernelspec": {
   "display_name": "Python 3",
   "language": "python",
   "name": "python3"
  },
  "language_info": {
   "codemirror_mode": {
    "name": "ipython",
    "version": 3
   },
   "file_extension": ".py",
   "mimetype": "text/x-python",
   "name": "python",
   "nbconvert_exporter": "python",
   "pygments_lexer": "ipython3",
   "version": "3.10.9"
  },
  "orig_nbformat": 4,
  "vscode": {
   "interpreter": {
    "hash": "aee8b7b246df8f9039afb4144a1f6fd8d2ca17a180786b69acc140d282b71a49"
   }
  }
 },
 "nbformat": 4,
 "nbformat_minor": 2
}
