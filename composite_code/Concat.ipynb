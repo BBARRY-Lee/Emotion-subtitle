{
 "cells": [
  {
   "attachments": {},
   "cell_type": "markdown",
   "metadata": {},
   "source": [
    "# 1. TimeStamp, Caption, Label 불러오기"
   ]
  },
  {
   "cell_type": "code",
   "execution_count": 65,
   "metadata": {},
   "outputs": [
    {
     "data": {
      "text/html": [
       "<div>\n",
       "<style scoped>\n",
       "    .dataframe tbody tr th:only-of-type {\n",
       "        vertical-align: middle;\n",
       "    }\n",
       "\n",
       "    .dataframe tbody tr th {\n",
       "        vertical-align: top;\n",
       "    }\n",
       "\n",
       "    .dataframe thead th {\n",
       "        text-align: right;\n",
       "    }\n",
       "</style>\n",
       "<table border=\"1\" class=\"dataframe\">\n",
       "  <thead>\n",
       "    <tr style=\"text-align: right;\">\n",
       "      <th></th>\n",
       "      <th>Start Time</th>\n",
       "      <th>End Time</th>\n",
       "      <th>Text</th>\n",
       "      <th>Lable</th>\n",
       "    </tr>\n",
       "  </thead>\n",
       "  <tbody>\n",
       "    <tr>\n",
       "      <th>0</th>\n",
       "      <td>00:00:05:26</td>\n",
       "      <td>00:00:08:08</td>\n",
       "      <td>처음부터 혼자가 하려던 건 아니었다</td>\n",
       "      <td>neutral</td>\n",
       "    </tr>\n",
       "    <tr>\n",
       "      <th>1</th>\n",
       "      <td>00:00:24:24</td>\n",
       "      <td>00:00:27:22</td>\n",
       "      <td>연결이 되지 않아 사서함으로 연결되며</td>\n",
       "      <td>neutral</td>\n",
       "    </tr>\n",
       "  </tbody>\n",
       "</table>\n",
       "</div>"
      ],
      "text/plain": [
       "    Start Time     End Time                  Text    Lable\n",
       "0  00:00:05:26  00:00:08:08   처음부터 혼자가 하려던 건 아니었다  neutral\n",
       "1  00:00:24:24  00:00:27:22  연결이 되지 않아 사서함으로 연결되며  neutral"
      ]
     },
     "execution_count": 65,
     "metadata": {},
     "output_type": "execute_result"
    }
   ],
   "source": [
    "### read csv --------------\n",
    "import numpy as np\n",
    "import pandas as pd\n",
    "\n",
    "textdata = pd.read_csv(\"./input_text/testdata.csv\")\n",
    "textdata.head(2)"
   ]
  },
  {
   "cell_type": "code",
   "execution_count": 66,
   "metadata": {},
   "outputs": [
    {
     "name": "stdout",
     "output_type": "stream",
     "text": [
      "['처음부터 혼자가 하려던 건 아니었다', '연결이 되지 않아 사서함으로 연결되며', '삐소리 이후 통행료가 부과됩니다']\n"
     ]
    }
   ],
   "source": [
    "### 자막 --------------\n",
    "text_list = []\n",
    "for i in textdata[\"Text\"] : text_list.append(i)\n",
    "print(text_list[:3])"
   ]
  },
  {
   "cell_type": "code",
   "execution_count": 67,
   "metadata": {},
   "outputs": [
    {
     "name": "stdout",
     "output_type": "stream",
     "text": [
      "['처음부터 혼자가 하려던 건 아니었다', '연결이 되지 않아 사서함으로 연결되며', '삐소리 이후 통행료가 부과됩니다', '얼마나 기다린 거지?', '그냥 갈까?', '결국 혼자다']\n"
     ]
    }
   ],
   "source": [
    "texts = []\n",
    "for i in range (0, 6):\n",
    "    texts.append(text_list[i])\n",
    "print(texts)"
   ]
  },
  {
   "cell_type": "code",
   "execution_count": 68,
   "metadata": {},
   "outputs": [
    {
     "name": "stdout",
     "output_type": "stream",
     "text": [
      "[['00:00:05:26', '00:00:08:08', '처음부터 혼자가 하려던 건 아니었다', 'neutral'], ['00:00:24:24', '00:00:27:22', '연결이 되지 않아 사서함으로 연결되며', 'neutral'], ['00:00:28:07', '00:00:32:21', '삐소리 이후 통행료가 부과됩니다', 'neutral']]\n",
      "['00:00:05:26', '00:00:24:24', '00:00:28:07'] ['00:00:08:08', '00:00:27:22', '00:00:32:21']\n"
     ]
    }
   ],
   "source": [
    "### 타임스탬프 --------------\n",
    "textdataList = textdata.values.tolist()\n",
    "\n",
    "print(textdataList[0:3])\n",
    "start_times, end_times = [], []\n",
    "for times in textdataList :\n",
    "    start_times.append(times[0])\n",
    "    end_times.append(times[1])\n",
    "\n",
    "print(start_times[:3], end_times[:3])"
   ]
  },
  {
   "cell_type": "code",
   "execution_count": 69,
   "metadata": {},
   "outputs": [
    {
     "name": "stdout",
     "output_type": "stream",
     "text": [
      "[5.26, 24.24, 28.07, 33.26, 36.05]\n",
      "[8.08, 27.22, 32.21, 36.05, 37.24]\n"
     ]
    }
   ],
   "source": [
    "### 타임스탬프 -> 초 단위로 변환 --------------\n",
    "def convert_to_seconds(time):\n",
    "    h, m, s, ms = map(int, time.split(':'))\n",
    "    return 3600 * h + 60 * m + s + ms / 100.0\n",
    "\n",
    "startTimes = [convert_to_seconds(time) for time in start_times]\n",
    "endTimes = [convert_to_seconds(time) for time in end_times]\n",
    "\n",
    "print(startTimes[:5])\n",
    "print(endTimes[:5])"
   ]
  },
  {
   "cell_type": "code",
   "execution_count": 70,
   "metadata": {},
   "outputs": [
    {
     "name": "stdout",
     "output_type": "stream",
     "text": [
      "[5.26, 24.24, 28.07, 33.26, 36.05, 51.13]\n",
      "[8.08, 27.22, 32.21, 36.05, 37.24, 54.17]\n"
     ]
    }
   ],
   "source": [
    "start_times, end_times = [], []\n",
    "# 1분 이상(60초) 타임스탬프 제외\n",
    "for start in startTimes:\n",
    "    if start < 60 :\n",
    "        start_times.append(start)\n",
    "    else :\n",
    "        pass\n",
    "\n",
    "for end in endTimes:\n",
    "    if end < 60 :\n",
    "        end_times.append(end)\n",
    "    else :\n",
    "        pass\n",
    "print(start_times)\n",
    "print(end_times)"
   ]
  },
  {
   "attachments": {},
   "cell_type": "markdown",
   "metadata": {},
   "source": [
    "# 2. 자막 이미지 변환"
   ]
  },
  {
   "cell_type": "code",
   "execution_count": null,
   "metadata": {},
   "outputs": [],
   "source": [
    "### 자막 이미지 생성 ----------------------------\n",
    "# height = 폰트 세로 크기로 리사이즈\n",
    "# width = 비디오 가로 크기로 리사이즈\n",
    "\n",
    "from PIL import Image, ImageFont, ImageDraw \n",
    "\n",
    "# Load the font\n",
    "font = ImageFont.truetype(\"./NotoSansKR-Black.otf\", 38)\n",
    "\n",
    "for i, text in enumerate(texts):\n",
    "  # Get the width and height of the text in pixels\n",
    "  textwidth, textheight = ImageDraw.Draw(Image.new('RGBA', (500,500), (255,255,255,0))).textsize(text, font)\n",
    "\n",
    "  # Create a blank image with the width of 1280 and height equal to the height of the text\n",
    "  img = Image.new('RGBA', (1280, textheight), (255,255,255,0))\n",
    "\n",
    "  # Create a draw object\n",
    "  draw = ImageDraw.Draw(img)\n",
    "\n",
    "  # Calculate the x and y coordinates to center the text in the image\n",
    "  x = (1280 - textwidth) / 2\n",
    "  y = (textheight - textheight) / 2\n",
    "\n",
    "  # Draw the text on the image\n",
    "  draw.text((x, y), text, font=font, fill=(255,255,255,255))\n",
    "\n",
    "  # Save the image\n",
    "  img.save(f\"./imglist/{i}.png\")"
   ]
  },
  {
   "cell_type": "code",
   "execution_count": 63,
   "metadata": {},
   "outputs": [
    {
     "name": "stdout",
     "output_type": "stream",
     "text": [
      "['./imglist/0.png', './imglist/1.png', './imglist/2.png', './imglist/3.png', './imglist/4.png', './imglist/5.png']\n"
     ]
    }
   ],
   "source": [
    "### 오름차순으로 리스트 담기\n",
    "import os\n",
    "from glob import glob\n",
    "\n",
    "folder_path = './imglist'\n",
    "image_extensions = 'png'\n",
    "\n",
    "def is_image(filename):\n",
    "    return any(filename.endswith(ext) for ext in image_extensions)\n",
    "\n",
    "subtitle_images_list = []\n",
    "subtitle_images_list = sorted([f for f in glob(os.path.join(folder_path, '*')) if is_image(f)])\n",
    "subtitle_images_list = sorted(subtitle_images_list, key=lambda x: int(os.path.splitext(os.path.basename(x))[0]))\n",
    "\n",
    "print(subtitle_images_list)"
   ]
  },
  {
   "attachments": {},
   "cell_type": "markdown",
   "metadata": {},
   "source": [
    "# 감정표현 효과 합성"
   ]
  },
  {
   "cell_type": "code",
   "execution_count": 58,
   "metadata": {},
   "outputs": [
    {
     "name": "stdout",
     "output_type": "stream",
     "text": [
      "['./input_img/angry.png']\n"
     ]
    }
   ],
   "source": [
    "### 오름차순으로 리스트 담기\n",
    "import os\n",
    "from glob import glob\n",
    "\n",
    "folder_path = './input_img'\n",
    "image_extensions = 'png'\n",
    "\n",
    "def is_image(filename):\n",
    "    return any(filename.endswith(ext) for ext in image_extensions)\n",
    "\n",
    "subtitle_images_list = []\n",
    "subtitle_images_list = sorted([f for f in glob(os.path.join(folder_path, '*')) if is_image(f)])\n",
    "# subtitle_images_list = sorted(subtitle_images_list, key=lambda x: int(os.path.splitext(os.path.basename(x))[0]))\n",
    "\n",
    "print(subtitle_images_list)"
   ]
  },
  {
   "cell_type": "code",
   "execution_count": 59,
   "metadata": {},
   "outputs": [
    {
     "name": "stdout",
     "output_type": "stream",
     "text": [
      "1\n"
     ]
    }
   ],
   "source": [
    "# 자막 이미지 리스트\n",
    "\n",
    "subtitle_images = []\n",
    "for subtitle_image_file in subtitle_images_list:\n",
    "    subtitle_image = cv2.imread(subtitle_image_file)\n",
    "    subtitle_images.append(subtitle_image)\n",
    "\n",
    "subtitle_images = []\n",
    "subtitle_heights = []\n",
    "subtitle_widths = []\n",
    "for subtitle_image_file in subtitle_images_list:\n",
    "    subtitle_image = cv2.imread(subtitle_image_file)\n",
    "    subtitle_images.append(subtitle_image)\n",
    "    subtitle_height, subtitle_width, _ = subtitle_image.shape\n",
    "    subtitle_heights.append(subtitle_height)\n",
    "    subtitle_widths.append(subtitle_width)\n",
    "print(len(subtitle_images))\n"
   ]
  },
  {
   "cell_type": "code",
   "execution_count": 61,
   "metadata": {},
   "outputs": [],
   "source": [
    "import cv2\n",
    "import numpy as np\n",
    "\n",
    "\n",
    "### 타임스탬프에 따른 영상과 자막 이미지 합성\n",
    "start_times = [5.26]\n",
    "end_times = [8.08]\n",
    "input_video_path = \"./input_video/test_1m.mp4\"\n",
    "video = cv2.VideoCapture(input_video_path)\n",
    "\n",
    "# Get the dimensions of the video\n",
    "video_width = int(video.get(3))\n",
    "video_height = int(video.get(4))\n",
    "\n",
    "output_file = \"./output_video/angry.mp4\"\n",
    "\n",
    "fourcc = cv2.VideoWriter_fourcc(*'mp4v')\n",
    "out = cv2.VideoWriter(output_file, fourcc, 30.0, (video_width, video_height))\n",
    "\n",
    "frame_counter = 0\n",
    "i = 0\n",
    "while True:\n",
    "    ret, frame = video.read()\n",
    "    if not ret:\n",
    "        break\n",
    "    \n",
    "    if i < len(start_times) and frame_counter / 20.0 >= start_times[i]:\n",
    "        subtitle_image = subtitle_images[i]\n",
    "        subtitle_height, subtitle_width, _ = subtitle_image.shape\n",
    "        x_offset = (video_width - subtitle_width) // 2\n",
    "        y_offset = video_height - subtitle_height\n",
    "        roi = frame[y_offset:y_offset+subtitle_height, x_offset:x_offset+subtitle_width]\n",
    "        img2gray = cv2.cvtColor(subtitle_image, cv2.COLOR_BGR2RGB)\n",
    "        img2gray = cv2.cvtColor(img2gray, cv2.COLOR_RGB2GRAY)\n",
    "        ret, mask = cv2.threshold(img2gray, 10, 255, cv2.THRESH_BINARY)\n",
    "        mask_inv = cv2.bitwise_not(mask)\n",
    "        img1_bg = cv2.bitwise_and(roi, roi, mask=mask_inv)\n",
    "        img2_fg = cv2.bitwise_and(subtitle_image, subtitle_image, mask=mask)\n",
    "        dst = cv2.add(img1_bg, img2_fg)\n",
    "        frame[y_offset:y_offset+subtitle_height, x_offset:x_offset+subtitle_width] = dst\n",
    "    \n",
    "    out.write(frame)\n",
    "    frame_counter += 1\n",
    "    \n",
    "    if i < len(end_times) and frame_counter / 20.0 >= end_times[i]:\n",
    "        i += 1\n",
    "\n",
    "out.release()\n"
   ]
  },
  {
   "attachments": {},
   "cell_type": "markdown",
   "metadata": {},
   "source": [
    "# 동영상과 자막 이미지 합성"
   ]
  },
  {
   "cell_type": "code",
   "execution_count": 71,
   "metadata": {},
   "outputs": [],
   "source": [
    "### 정해진 TimeStamp에 따라 자막을 합성하는 함수 ----------------\n",
    "\n",
    "import cv2\n",
    "import numpy as np\n",
    "from PIL import Image, ImageDraw, ImageFont\n",
    "\n",
    "def add_subtitles_within_time_range(text, input_video_path, start_time, end_time):\n",
    "    # 비디오 로드\n",
    "    video = cv2.VideoCapture(input_video_path)\n",
    "\n",
    "    # Get the dimensions of the video\n",
    "    frame_width = int(video.get(3))\n",
    "    frame_height = int(video.get(4))\n",
    "\n",
    "    # Define the codec and create a VideoWriter object\n",
    "    fourcc = cv2.VideoWriter_fourcc(*\"mp4v\") \n",
    "    out = cv2.VideoWriter(\"./output_video/output.mp4\", fourcc, 30.0, (frame_width, frame_height))\n",
    "\n",
    "    # Define the text font and color\n",
    "    font = ImageFont.truetype(\".//NotoSansKR-Black.otf\", 36)\n",
    "    color = (255, 255, 255)\n",
    "\n",
    "    # Read and process each frame of the video\n",
    "    start_frame = int(start_time * 30)\n",
    "    end_frame = int(end_time * 30)\n",
    "    current_frame = 0\n",
    "    while True:\n",
    "        ret, frame = video.read()\n",
    "        if not ret:\n",
    "            break\n",
    "        if current_frame >= start_frame and current_frame <= end_frame:\n",
    "            # Convert the frame to a PIL image\n",
    "            frame = cv2.cvtColor(frame, cv2.COLOR_BGR2RGB)\n",
    "            frame = Image.fromarray(frame)\n",
    "            \n",
    "            # Create a draw object and add text to the image\n",
    "            draw = ImageDraw.Draw(frame)\n",
    "            text = text\n",
    "            textwidth, textheight = font.getsize(text)\n",
    "            text_position = (frame_width / 2 - textwidth / 2, frame_height - textheight - 50)\n",
    "            draw.text(text_position, text, font=font, fill=color)   \n",
    "            \n",
    "            # Convert the PIL image back to a OpenCV frame\n",
    "            frame = np.array(frame)\n",
    "            frame = cv2.cvtColor(frame, cv2.COLOR_RGB2BGR)\n",
    "            \n",
    "        # Write the frame to the output video\n",
    "        out.write(frame)\n",
    "        current_frame += 1\n",
    "\n",
    "    # Release the video and VideoWriter objects\n",
    "    out.release()\n",
    "    video.release()\n"
   ]
  },
  {
   "cell_type": "code",
   "execution_count": 72,
   "metadata": {},
   "outputs": [
    {
     "name": "stderr",
     "output_type": "stream",
     "text": [
      "6개의 자막과 동영상을 합성 중 입니다.:   0%|          | 0/6 [00:00<?, ?it/s]/var/folders/jk/6v6fgrlx26s0xvwkcpch09xw0000gn/T/ipykernel_72435/3952835329.py:39: DeprecationWarning: getsize is deprecated and will be removed in Pillow 10 (2023-07-01). Use getbbox or getlength instead.\n",
      "  textwidth, textheight = font.getsize(text)\n",
      "6개의 자막과 동영상을 합성 중 입니다.: 100%|██████████| 6/6 [01:19<00:00, 13.32s/it]\n"
     ]
    }
   ],
   "source": [
    "import shutil # copy 생성 라이브러리\n",
    "from tqdm import tqdm\n",
    "import time\n",
    "\n",
    "input_video_path = \"./output_video/angry.mp4\"\n",
    "cnt = 0\n",
    "\n",
    "for i in tqdm(range(len(texts)), desc=f'{len(texts)}개의 자막과 동영상을 합성 중 입니다.'):\n",
    "    cnt += 1\n",
    "    text = texts[i]\n",
    "    start_time = start_times[i]\n",
    "    end_time = end_times[i]\n",
    "    if cnt == 1 :\n",
    "        add_subtitles_within_time_range(text, input_video_path, start_time, end_time)\n",
    "        input_file = \"./output_video/output.mp4\"\n",
    "        output_file = \"./output_video/copy.mp4\"\n",
    "        shutil.copy(input_file, output_file)\n",
    "\n",
    "    else :\n",
    "        input_video_path = \"./output_video/copy.mp4\"\n",
    "        add_subtitles_within_time_range(text, input_video_path, start_time, end_time)\n",
    "        input_file = \"./output_video/output.mp4\"\n",
    "        output_file = \"./output_video/copy.mp4\"\n",
    "        shutil.copy(input_file, output_file)\n"
   ]
  },
  {
   "attachments": {},
   "cell_type": "markdown",
   "metadata": {},
   "source": [
    "# 마지막 음성 재합성"
   ]
  },
  {
   "cell_type": "markdown",
   "metadata": {},
   "source": []
  }
 ],
 "metadata": {
  "kernelspec": {
   "display_name": "Python 3",
   "language": "python",
   "name": "python3"
  },
  "language_info": {
   "codemirror_mode": {
    "name": "ipython",
    "version": 3
   },
   "file_extension": ".py",
   "mimetype": "text/x-python",
   "name": "python",
   "nbconvert_exporter": "python",
   "pygments_lexer": "ipython3",
   "version": "3.10.9"
  },
  "orig_nbformat": 4,
  "vscode": {
   "interpreter": {
    "hash": "aee8b7b246df8f9039afb4144a1f6fd8d2ca17a180786b69acc140d282b71a49"
   }
  }
 },
 "nbformat": 4,
 "nbformat_minor": 2
}
